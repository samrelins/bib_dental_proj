{
 "cells": [
  {
   "cell_type": "code",
   "execution_count": 1,
   "metadata": {
    "collapsed": true
   },
   "outputs": [
    {
     "name": "stdout",
     "output_type": "stream",
     "text": [
      "<class 'pandas.core.frame.DataFrame'>\n",
      "Int64Index: 1077 entries, 0 to 1076\n",
      "Data columns (total 73 columns):\n",
      " #   Column                   Non-Null Count  Dtype  \n",
      "---  ------                   --------------  -----  \n",
      " 0   age_at_ga                1077 non-null   float64\n",
      " 1   type_of_ga               1077 non-null   object \n",
      " 2   total_ga                 1077 non-null   float64\n",
      " 3   ga_sequence              1077 non-null   float64\n",
      " 4   weight_at_ga             909 non-null    float64\n",
      " 5   ur6                      1077 non-null   object \n",
      " 6   urE                      1077 non-null   object \n",
      " 7   urd                      1077 non-null   object \n",
      " 8   urc                      1077 non-null   object \n",
      " 9   urb                      1077 non-null   object \n",
      " 10  ura                      1077 non-null   object \n",
      " 11  ula                      1077 non-null   object \n",
      " 12  ulb                      1077 non-null   object \n",
      " 13  ulc                      1077 non-null   object \n",
      " 14  uld                      1077 non-null   object \n",
      " 15  ule                      1077 non-null   object \n",
      " 16  ul6                      1077 non-null   object \n",
      " 17  ll6                      1077 non-null   object \n",
      " 18  lle                      1077 non-null   object \n",
      " 19  lld                      1077 non-null   object \n",
      " 20  llc                      1077 non-null   object \n",
      " 21  llb                      1077 non-null   object \n",
      " 22  lla                      1077 non-null   object \n",
      " 23  lra                      1077 non-null   object \n",
      " 24  lrb                      1077 non-null   object \n",
      " 25  lrc                      1077 non-null   object \n",
      " 26  lrd                      1077 non-null   object \n",
      " 27  lre                      1077 non-null   object \n",
      " 28  lr6                      1077 non-null   object \n",
      " 29  ur4                      1077 non-null   object \n",
      " 30  ur1                      1077 non-null   object \n",
      " 31  ul1                      1077 non-null   object \n",
      " 32  ul4                      1077 non-null   object \n",
      " 33  ll5                      1077 non-null   object \n",
      " 34  ll4                      1077 non-null   object \n",
      " 35  ll1                      1077 non-null   object \n",
      " 36  lr1                      1077 non-null   object \n",
      " 37  lr4                      1077 non-null   object \n",
      " 38  lr5                      1077 non-null   object \n",
      " 39  res6mcage                1077 non-null   float64\n",
      " 40  res6mcbetterstart        1077 non-null   object \n",
      " 41  gender                   1071 non-null   object \n",
      " 42  father_age_at_q          209 non-null    float64\n",
      " 43  mother_age_at_q          854 non-null    float64\n",
      " 44  on_benefits              851 non-null    object \n",
      " 45  describe_health_q        109 non-null    object \n",
      " 46  has_diagnosis_q          109 non-null    object \n",
      " 47  hospital_admission_q     111 non-null    object \n",
      " 48  ethnicity                1038 non-null   object \n",
      " 49  english_additional_lang  1030 non-null   object \n",
      " 50  looked_after_child       1040 non-null   object \n",
      " 51  special_ed_needs         1028 non-null   object \n",
      " 52  father_highest_ed        851 non-null    object \n",
      " 53  mother_highest_ed        849 non-null    object \n",
      " 54  mother_ethnicity         852 non-null    object \n",
      " 55  age_father_complete_ed   204 non-null    object \n",
      " 56  father_birthplace        201 non-null    object \n",
      " 57  has_bib1kc               140 non-null    object \n",
      " 58  imd_2010_decile          854 non-null    float64\n",
      " 59  socio_economic_pos       851 non-null    object \n",
      " 60  age_mother_moved_uk      301 non-null    float64\n",
      " 61  mother_birthplace        854 non-null    object \n",
      " 62  questionaire_language    848 non-null    object \n",
      " 63  GATx                     1077 non-null   float64\n",
      " 64  Epi                      1077 non-null   float64\n",
      " 65  n_extractions            1077 non-null   float64\n",
      " 66  n_primary_extract        1077 non-null   float64\n",
      " 67  n_perm_extract           1077 non-null   float64\n",
      " 68  res6mcage_ga             1077 non-null   float64\n",
      " 69  n_treated                1077 non-null   float64\n",
      " 70  n_filled                 1077 non-null   float64\n",
      " 71  n_sealed                 1077 non-null   float64\n",
      " 72  n_crowned                1077 non-null   float64\n",
      "dtypes: float64(19), object(54)\n",
      "memory usage: 622.6+ KB\n"
     ]
    }
   ],
   "source": [
    "import sys\n",
    "sys.path.append('/Users/samrelins/Documents/LIDA/dental_project/src/')\n",
    "\n",
    "from data_prep import *\n",
    "from causalnex.structure.notears import from_pandas\n",
    "from causalnex.plots import plot_structure, NODE_STYLE, EDGE_STYLE\n",
    "from IPython.display import Image\n",
    "import pandas as pd\n",
    "import plotly.express as px\n",
    "\n",
    "\n",
    "data_dir = \"../data/erin_data\"\n",
    "\n",
    "ga_data, epi_data = build_epi_ga_data(data_dir)\n",
    "ga_data.info()"
   ]
  },
  {
   "cell_type": "markdown",
   "source": [
    "### Simple DAG describing No of Extractions"
   ],
   "metadata": {
    "collapsed": false
   }
  },
  {
   "cell_type": "code",
   "execution_count": null,
   "outputs": [],
   "source": [
    "# prep data for simple DAG\n",
    "dag_features = ['age_at_ga', 'type_of_ga', 'ethnicity', 'special_ed_needs',\n",
    "                'imd_2010_decile', 'n_extractions']\n",
    "\n",
    "# drop unnecessary cols and na vals from numeric features\n",
    "encoded_data = ga_data[dag_features].copy()\n",
    "encoded_data.dropna(inplace=True)\n",
    "encoded_data.info()\n",
    "\n",
    "# numerically encode categorical features\n",
    "for col in encoded_data.columns:\n",
    "    if encoded_data[col].dtype == np.dtype(\"object\"):\n",
    "        encoded_data[col] = encoded_data[col].astype(\"category\").cat.codes"
   ],
   "metadata": {
    "collapsed": false,
    "pycharm": {
     "name": "#%%\n"
    }
   }
  },
  {
   "cell_type": "code",
   "execution_count": null,
   "outputs": [],
   "source": [
    "\n",
    "sm = from_pandas(encoded_data)\n",
    "\n",
    "sm.remove_edges_below_threshold(0.9)\n",
    "viz = plot_structure(\n",
    "    sm,\n",
    "    graph_attributes={\"scale\": \"1\"},\n",
    "    all_node_attributes=NODE_STYLE.WEAK,\n",
    "    all_edge_attributes=EDGE_STYLE.WEAK\n",
    ")\n",
    "\n",
    "Image(viz.draw(format=\"png\"))"
   ],
   "metadata": {
    "collapsed": false,
    "pycharm": {
     "name": "#%%\n"
    }
   }
  },
  {
   "cell_type": "code",
   "execution_count": null,
   "outputs": [],
   "source": [
    "smaller = ga_data.age_at_ga < 48\n",
    "small = ga_data.age_at_ga < 96\n",
    "big = ga_data.age_at_ga < 200\n",
    "\n",
    "print(sum(smaller))\n",
    "print(sum(small & ~ smaller))\n",
    "print(sum(big & ~small & ~ smaller))"
   ],
   "metadata": {
    "collapsed": false,
    "pycharm": {
     "name": "#%%\n"
    }
   }
  },
  {
   "cell_type": "code",
   "execution_count": null,
   "outputs": [],
   "source": [
    "from causalnex.discretiser import Discretiser\n",
    "\n",
    "discretised_data = ga_data[dag_features].copy()\n",
    "discretised_data.dropna(inplace=True)\n",
    "discretised_data.reset_index(drop=True, inplace=True)\n"
   ],
   "metadata": {
    "collapsed": false,
    "pycharm": {
     "name": "#%%\n"
    }
   }
  },
  {
   "cell_type": "code",
   "execution_count": null,
   "outputs": [],
   "source": [
    "age_map = {0: \"under_4\", 1: \"mid\", 2: \"over_8\"}\n",
    "discretised_data[\"age_at_ga\"] = pd.Series(\n",
    "    Discretiser(method=\"fixed\",\n",
    "                numeric_split_points=[48, 96])\n",
    "        .transform(discretised_data.age_at_ga.values)\n",
    ").map(age_map)\n",
    "\n",
    "ext_map = {0: \"less_than_7\", 1: \"mid\", 2: \"more_than_10\"}\n",
    "discretised_data[\"n_extractions\"] = pd.Series(\n",
    "    Discretiser(method=\"fixed\",\n",
    "                numeric_split_points=[7, 11])\n",
    "        .transform(discretised_data.n_extractions.values)\n",
    ").map(ext_map)\n",
    "\n",
    "imd_map = {0: \"imd_1\", 1: \"imd_1+\"}\n",
    "discretised_data[\"imd_2010_decile\"] = pd.Series(\n",
    "    Discretiser(method=\"fixed\",\n",
    "                numeric_split_points=[2])\n",
    "        .transform(discretised_data.imd_2010_decile.values)\n",
    ").map(imd_map)\n"
   ],
   "metadata": {
    "collapsed": false,
    "pycharm": {
     "name": "#%%\n"
    }
   }
  },
  {
   "cell_type": "code",
   "execution_count": null,
   "outputs": [],
   "source": [
    "from sklearn.model_selection import train_test_split\n",
    "\n",
    "train, test = train_test_split(discretised_data, train_size=0.8, test_size=0.2)"
   ],
   "metadata": {
    "collapsed": false,
    "pycharm": {
     "name": "#%%\n"
    }
   }
  },
  {
   "cell_type": "code",
   "execution_count": null,
   "outputs": [],
   "source": [
    "from causalnex.network import BayesianNetwork\n",
    "bn = BayesianNetwork(sm)\n",
    "\n",
    "bn.fit_node_states(discretised_data)\n",
    "bn = bn.fit_cpds(train, method=\"BayesianEstimator\", bayes_prior=\"K2\")"
   ],
   "metadata": {
    "collapsed": false,
    "pycharm": {
     "name": "#%%\n"
    }
   }
  },
  {
   "cell_type": "code",
   "execution_count": null,
   "outputs": [],
   "source": [
    "bn.cpds[\"n_extractions\"]"
   ],
   "metadata": {
    "collapsed": false,
    "pycharm": {
     "name": "#%%\n"
    }
   }
  },
  {
   "cell_type": "code",
   "execution_count": null,
   "outputs": [],
   "source": [
    "from causalnex.evaluation import classification_report\n",
    "classification_report(bn, test, \"n_extractions\")"
   ],
   "metadata": {
    "collapsed": false,
    "pycharm": {
     "name": "#%%\n"
    }
   }
  },
  {
   "cell_type": "code",
   "execution_count": null,
   "outputs": [],
   "source": [
    "test = test.join(bn.predict_probability(test, \"n_extractions\"))\n",
    "pred_cols = ['n_extractions_more_than_10', 'n_extractions_less_than_7',\n",
    "             'n_extractions_mid']\n",
    "preds_df = (test[pred_cols + [\"n_extractions\"]]\n",
    "            .groupby(\"n_extractions\").agg([\"mean\", \"sem\"])\n",
    "            .reset_index()\n",
    "            .melt(id_vars=\"n_extractions\")\n",
    "            .pivot(index=[\"n_extractions\", \"variable_0\"],\n",
    "                   columns=\"variable_1\", values=\"value\")\n",
    "            .reset_index()\n",
    "            )\n",
    "\n",
    "fig = px.line(preds_df,\n",
    "              x=\"n_extractions\",\n",
    "              y=\"mean\",\n",
    "              color=\"variable_0\",\n",
    "              error_y=\"sem\")\n",
    "fig.show()"
   ],
   "metadata": {
    "collapsed": false,
    "pycharm": {
     "name": "#%%\n"
    }
   }
  },
  {
   "cell_type": "code",
   "execution_count": null,
   "outputs": [],
   "source": [
    "from causalnex.inference import InferenceEngine\n",
    "\n",
    "ie = InferenceEngine(bn)\n",
    "marginals = ie.query()\n",
    "marginals[\"n_extractions\"]"
   ],
   "metadata": {
    "collapsed": false,
    "pycharm": {
     "name": "#%%\n"
    }
   }
  },
  {
   "cell_type": "code",
   "execution_count": null,
   "outputs": [],
   "source": [
    "marginals_uk = ie.query({\"ethnicity\": \"White British\"})\n",
    "print(\"=\" * 80)\n",
    "print(\"Marginal n_extractions | White British:\\n\")\n",
    "print(marginals_uk['n_extractions'])\n",
    "\n",
    "marginals_pak = ie.query({\"ethnicity\": \"Pakistani\"})\n",
    "print(\"=\" * 80)\n",
    "print(\"Marginal n_extractions | White British:\\n\")\n",
    "print(marginals_pak['n_extractions'])"
   ],
   "metadata": {
    "collapsed": false,
    "pycharm": {
     "name": "#%%\n"
    }
   }
  },
  {
   "cell_type": "code",
   "execution_count": null,
   "outputs": [],
   "source": [
    "marginals_uk = ie.query({\"ethnicity\": \"White British\",\n",
    "                         \"imd_2010_decile\": \"imd_1\"})\n",
    "print(\"=\" * 80)\n",
    "print(\"Marginal n_extractions | White British:\\n\")\n",
    "print(marginals_uk['n_extractions'])\n",
    "\n",
    "marginals_pak = ie.query({\"ethnicity\": \"Pakistani\",\n",
    "                          \"imd_2010_decile\": \"imd_1\"})\n",
    "print(\"=\" * 80)\n",
    "print(\"Marginal n_extractions | White British:\\n\")\n",
    "print(marginals_pak['n_extractions'])"
   ],
   "metadata": {
    "collapsed": false,
    "pycharm": {
     "name": "#%%\n"
    }
   }
  },
  {
   "cell_type": "code",
   "execution_count": null,
   "outputs": [],
   "source": [],
   "metadata": {
    "collapsed": false,
    "pycharm": {
     "name": "#%%\n"
    }
   }
  }
 ],
 "metadata": {
  "kernelspec": {
   "display_name": "Python 3",
   "language": "python",
   "name": "python3"
  },
  "language_info": {
   "codemirror_mode": {
    "name": "ipython",
    "version": 2
   },
   "file_extension": ".py",
   "mimetype": "text/x-python",
   "name": "python",
   "nbconvert_exporter": "python",
   "pygments_lexer": "ipython2",
   "version": "2.7.6"
  }
 },
 "nbformat": 4,
 "nbformat_minor": 0
}