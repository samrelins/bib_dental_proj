{
 "cells": [
  {
   "cell_type": "code",
   "execution_count": 1,
   "metadata": {
    "collapsed": true
   },
   "outputs": [],
   "source": [
    "import sys\n",
    "\n",
    "\n",
    "sys.path.append('/Users/samrelins/Documents/LIDA/dental_project/src/')\n",
    "\n",
    "from edrecs_context_data_prep import *\n",
    "import os\n",
    "import pandas as pd\n",
    "import plotly.express as px\n",
    "from patsy import dmatrices\n",
    "import statsmodels.api as sm\n"
   ]
  },
  {
   "cell_type": "code",
   "execution_count": 2,
   "outputs": [
    {
     "name": "stdout",
     "output_type": "stream",
     "text": [
      "<class 'pandas.core.frame.DataFrame'>\n",
      "RangeIndex: 354 entries, 0 to 353\n",
      "Data columns (total 8 columns):\n",
      " #   Column           Non-Null Count  Dtype  \n",
      "---  ------           --------------  -----  \n",
      " 0   entity_id        354 non-null    object \n",
      " 1   has_dsurvey_5yo  354 non-null    float64\n",
      " 2   AgeMths          354 non-null    float64\n",
      " 3   ddsdt            354 non-null    float64\n",
      " 4   ddsmt            354 non-null    float64\n",
      " 5   ddsft            354 non-null    float64\n",
      " 6   ddsdmft          354 non-null    float64\n",
      " 7   ddscareindex     354 non-null    float64\n",
      "dtypes: float64(7), object(1)\n",
      "memory usage: 22.2+ KB\n"
     ]
    }
   ],
   "source": [
    "\n",
    "# load dental epi survey data\n",
    "dental_dir = \"/Users/samrelins/Documents/LIDA/dental_project/data/bib_data/dental\"\n",
    "epi_path = os.path.join(dental_dir, \"dsurvey_5yo/data.csv\")\n",
    "epi_data = pd.read_csv(epi_path)\n",
    "\n",
    "epi_data.info()"
   ],
   "metadata": {
    "collapsed": false,
    "pycharm": {
     "name": "#%%\n"
    }
   }
  },
  {
   "cell_type": "code",
   "execution_count": 3,
   "outputs": [
    {
     "name": "stdout",
     "output_type": "stream",
     "text": [
      "<class 'pandas.core.frame.DataFrame'>\n",
      "RangeIndex: 11711 entries, 0 to 11710\n",
      "Data columns (total 12 columns):\n",
      " #   Column                  Non-Null Count  Dtype   \n",
      "---  ------                  --------------  -----   \n",
      " 0   entity_id               11711 non-null  object  \n",
      " 1   has_edrecs_context      11711 non-null  int16   \n",
      " 2   year_started_school     11711 non-null  category\n",
      " 3   birthday_academic_term  11711 non-null  category\n",
      " 4   eal                     11711 non-null  category\n",
      " 5   ethnicity               11711 non-null  category\n",
      " 6   fsm                     11711 non-null  category\n",
      " 7   gifted                  11711 non-null  category\n",
      " 8   gender                  11711 non-null  category\n",
      " 9   looked_after            11711 non-null  category\n",
      " 10  sen                     11711 non-null  category\n",
      " 11  has_edcont              11711 non-null  int16   \n",
      "dtypes: category(9), int16(2), object(1)\n",
      "memory usage: 241.3+ KB\n"
     ]
    }
   ],
   "source": [
    "# load edrecs context data\n",
    "ed_dir = \"/Users/samrelins/Documents/LIDA/dental_project/data/bib_data/education\"\n",
    "context_path = os.path.join(ed_dir, \"context/data.csv\")\n",
    "context_data = pd.read_csv(context_path)\n",
    "context_data = (context_data.pipe(clean_context_data)\n",
    "                .pipe(convert_sen_categories)\n",
    "                .pipe(convert_ethnicity_categories)\n",
    "                .pipe(convert_context_numerical_categories)\n",
    "                .pipe(rename_context_cols))\n",
    "\n",
    "context_data.info()"
   ],
   "metadata": {
    "collapsed": false,
    "pycharm": {
     "name": "#%%\n"
    }
   }
  },
  {
   "cell_type": "code",
   "execution_count": 4,
   "outputs": [
    {
     "name": "stdout",
     "output_type": "stream",
     "text": [
      "<class 'pandas.core.frame.DataFrame'>\n",
      "Int64Index: 352 entries, 0 to 353\n",
      "Data columns (total 19 columns):\n",
      " #   Column                  Non-Null Count  Dtype   \n",
      "---  ------                  --------------  -----   \n",
      " 0   entity_id               352 non-null    object  \n",
      " 1   has_dsurvey_5yo         352 non-null    float64 \n",
      " 2   AgeMths                 352 non-null    float64 \n",
      " 3   ddsdt                   352 non-null    float64 \n",
      " 4   ddsmt                   352 non-null    float64 \n",
      " 5   ddsft                   352 non-null    float64 \n",
      " 6   ddsdmft                 352 non-null    float64 \n",
      " 7   ddscareindex            352 non-null    float64 \n",
      " 8   has_edrecs_context      352 non-null    float64 \n",
      " 9   year_started_school     352 non-null    category\n",
      " 10  birthday_academic_term  352 non-null    category\n",
      " 11  eal                     352 non-null    category\n",
      " 12  ethnicity               352 non-null    category\n",
      " 13  fsm                     352 non-null    category\n",
      " 14  gifted                  352 non-null    category\n",
      " 15  gender                  352 non-null    category\n",
      " 16  looked_after            352 non-null    category\n",
      " 17  sen                     352 non-null    category\n",
      " 18  has_edcont              352 non-null    float64 \n",
      "dtypes: category(9), float64(9), object(1)\n",
      "memory usage: 34.3+ KB\n"
     ]
    }
   ],
   "source": [
    "# join context variables to epi data\n",
    "epi_data = epi_data.merge(context_data, on=\"entity_id\", how=\"left\")\n",
    "epi_data.dropna(inplace=True)\n",
    "epi_data.info()"
   ],
   "metadata": {
    "collapsed": false,
    "pycharm": {
     "name": "#%%\n"
    }
   }
  },
  {
   "cell_type": "code",
   "execution_count": 5,
   "outputs": [
    {
     "name": "stdout",
     "output_type": "stream",
     "text": [
      "<class 'pandas.core.frame.DataFrame'>\n",
      "Int64Index: 352 entries, 0 to 353\n",
      "Data columns (total 10 columns):\n",
      " #   Column                  Non-Null Count  Dtype   \n",
      "---  ------                  --------------  -----   \n",
      " 0   ddsdmft                 352 non-null    float64 \n",
      " 1   year_started_school     352 non-null    category\n",
      " 2   birthday_academic_term  352 non-null    category\n",
      " 3   eal                     352 non-null    category\n",
      " 4   ethnicity               352 non-null    category\n",
      " 5   fsm                     352 non-null    category\n",
      " 6   gifted                  352 non-null    category\n",
      " 7   gender                  352 non-null    category\n",
      " 8   looked_after            352 non-null    category\n",
      " 9   sen                     352 non-null    category\n",
      "dtypes: category(9), float64(1)\n",
      "memory usage: 9.6 KB\n"
     ]
    }
   ],
   "source": [
    "# remove superfluous features for linear regression\n",
    "drop_cols = [\"entity_id\", \"has_dsurvey_5yo\", \"ddsdt\", \"ddsmt\", \"ddsft\",\n",
    "             \"ddscareindex\", \"has_edrecs_context\", \"has_edcont\", \"AgeMths\"]\n",
    "\n",
    "epi_data = epi_data.drop(drop_cols, axis=1)\n",
    "\n",
    "epi_data.info()"
   ],
   "metadata": {
    "collapsed": false,
    "pycharm": {
     "name": "#%%\n"
    }
   }
  },
  {
   "cell_type": "code",
   "execution_count": 6,
   "outputs": [
    {
     "name": "stdout",
     "output_type": "stream",
     "text": [
      "                            OLS Regression Results                            \n",
      "==============================================================================\n",
      "Dep. Variable:                ddsdmft   R-squared:                       0.110\n",
      "Model:                            OLS   Adj. R-squared:                  0.079\n",
      "Method:                 Least Squares   F-statistic:                     3.501\n",
      "Date:                Fri, 25 Jun 2021   Prob (F-statistic):           6.72e-05\n",
      "Time:                        11:32:04   Log-Likelihood:                -856.02\n",
      "No. Observations:                 352   AIC:                             1738.\n",
      "Df Residuals:                     339   BIC:                             1788.\n",
      "Df Model:                          12                                         \n",
      "Covariance Type:            nonrobust                                         \n",
      "====================================================================================================\n",
      "                                       coef    std err          t      P>|t|      [0.025      0.975]\n",
      "----------------------------------------------------------------------------------------------------\n",
      "Intercept                            0.7200      0.450      1.600      0.111      -0.165       1.605\n",
      "year_started_school[T.2]         -1.398e-15   1.05e-15     -1.334      0.183   -3.46e-15    6.63e-16\n",
      "year_started_school[T.3]            -0.6973      0.450     -1.550      0.122      -1.582       0.188\n",
      "year_started_school[T.4]             0.0952      0.259      0.367      0.714      -0.415       0.606\n",
      "year_started_school[T.5]             1.3221      0.430      3.073      0.002       0.476       2.168\n",
      "birthday_academic_term[T.spring]     0.2931      0.408      0.719      0.473      -0.509       1.095\n",
      "birthday_academic_term[T.summer]     0.5173      0.672      0.770      0.442      -0.805       1.839\n",
      "eal[T.unknown]                      -0.7328      1.655     -0.443      0.658      -3.988       2.522\n",
      "eal[T.yes]                           0.3665      0.428      0.857      0.392      -0.475       1.208\n",
      "ethnicity[T.pakistani]               0.8564      0.396      2.161      0.031       0.077       1.636\n",
      "ethnicity[T.white_british]          -0.2735      0.510     -0.537      0.592      -1.276       0.729\n",
      "fsm[T.yes]                           0.6957      0.387      1.798      0.073      -0.065       1.457\n",
      "gifted[T.yes]                        3.3593      2.017      1.666      0.097      -0.607       7.326\n",
      "gender[T.male]                       0.2141      0.303      0.706      0.480      -0.382       0.810\n",
      "looked_after[T.yes]                       0          0        nan        nan           0           0\n",
      "sen[T.sen_support]                   0.7620      0.388      1.965      0.050      -0.001       1.525\n",
      "==============================================================================\n",
      "Omnibus:                      145.575   Durbin-Watson:                   1.848\n",
      "Prob(Omnibus):                  0.000   Jarque-Bera (JB):              573.808\n",
      "Skew:                           1.806   Prob(JB):                    2.51e-125\n",
      "Kurtosis:                       8.106   Cond. No.                          inf\n",
      "==============================================================================\n",
      "\n",
      "Notes:\n",
      "[1] Standard Errors assume that the covariance matrix of the errors is correctly specified.\n",
      "[2] The smallest eigenvalue is      0. This might indicate that there are\n",
      "strong multicollinearity problems or that the design matrix is singular.\n"
     ]
    },
    {
     "name": "stderr",
     "output_type": "stream",
     "text": [
      "/opt/anaconda3/envs/DentalEnv/lib/python3.8/site-packages/statsmodels/regression/linear_model.py:1860: RuntimeWarning: divide by zero encountered in double_scalars\n",
      "  return np.sqrt(eigvals[0]/eigvals[-1])\n"
     ]
    }
   ],
   "source": [
    "features = epi_data.drop(\"ddsdmft\", axis=1).columns\n",
    "patsy_string = \"ddsdmft ~ \"\n",
    "patsy_string += \" + \".join(features)\n",
    "y, X = dmatrices(patsy_string, data=epi_data, return_type=\"dataframe\")\n",
    "\n",
    "mod = sm.OLS(y, X)\n",
    "res = mod.fit()\n",
    "print(res.summary())"
   ],
   "metadata": {
    "collapsed": false,
    "pycharm": {
     "name": "#%%\n"
    }
   }
  },
  {
   "cell_type": "code",
   "execution_count": 9,
   "outputs": [
    {
     "data": {
      "text/plain": "0      1.223638\n1      2.075952\n2      1.953225\n3      1.744088\n4      1.749168\n         ...   \n349    3.410288\n350    0.758706\n351    3.410288\n352    2.245691\n353    3.410288\nLength: 352, dtype: float64"
     },
     "execution_count": 9,
     "metadata": {},
     "output_type": "execute_result"
    }
   ],
   "source": [
    "preds = res.predict(X)\n",
    "preds"
   ],
   "metadata": {
    "collapsed": false,
    "pycharm": {
     "name": "#%%\n"
    }
   }
  },
  {
   "cell_type": "code",
   "execution_count": null,
   "outputs": [],
   "source": [],
   "metadata": {
    "collapsed": false,
    "pycharm": {
     "name": "#%%\n"
    }
   }
  }
 ],
 "metadata": {
  "kernelspec": {
   "display_name": "Python 3",
   "language": "python",
   "name": "python3"
  },
  "language_info": {
   "codemirror_mode": {
    "name": "ipython",
    "version": 2
   },
   "file_extension": ".py",
   "mimetype": "text/x-python",
   "name": "python",
   "nbconvert_exporter": "python",
   "pygments_lexer": "ipython2",
   "version": "2.7.6"
  }
 },
 "nbformat": 4,
 "nbformat_minor": 0
}