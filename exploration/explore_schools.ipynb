{
 "cells": [
  {
   "cell_type": "code",
   "execution_count": 7,
   "outputs": [],
   "source": [
    "import sys\n",
    "\n",
    "import pandas as pd\n",
    "\n",
    "sys.path.append('/Users/samrelins/Documents/LIDA/dental_project/src/')\n",
    "\n",
    "from baseline_data_prep import *\n",
    "from education_data_prep import *\n",
    "from naive_model_helpers import *\n",
    "from platoon_data_prep import *\n",
    "from tableone import TableOne\n",
    "from sklearn.metrics import roc_auc_score, roc_curve"
   ],
   "metadata": {
    "collapsed": false,
    "pycharm": {
     "name": "#%%\n"
    }
   }
  },
  {
   "cell_type": "code",
   "execution_count": 8,
   "outputs": [
    {
     "name": "stdout",
     "output_type": "stream",
     "text": [
      "<class 'pandas.core.frame.DataFrame'>\n",
      "RangeIndex: 354 entries, 0 to 353\n",
      "Data columns (total 9 columns):\n",
      " #   Column             Non-Null Count  Dtype  \n",
      "---  ------             --------------  -----  \n",
      " 0   entity_id          354 non-null    object \n",
      " 1   has_dsurvey_5yo    354 non-null    float64\n",
      " 2   AgeMths            354 non-null    float64\n",
      " 3   ddsdt              354 non-null    float64\n",
      " 4   ddsmt              354 non-null    float64\n",
      " 5   ddsft              354 non-null    float64\n",
      " 6   ddsdmft            354 non-null    float64\n",
      " 7   ddscareindex       354 non-null    float64\n",
      " 8   caries_experience  354 non-null    int64  \n",
      "dtypes: float64(7), int64(1), object(1)\n",
      "memory usage: 25.0+ KB\n"
     ]
    },
    {
     "name": "stderr",
     "output_type": "stream",
     "text": [
      "/opt/anaconda3/envs/DentalEnv/lib/python3.8/site-packages/ipykernel/ipkernel.py:287: DeprecationWarning: `should_run_async` will not call `transform_cell` automatically in the future. Please pass the result to `transformed_cell` argument and any exception that happen during thetransform in `preprocessing_exc_tuple` in IPython 7.17 and above.\n",
      "  and should_run_async(code)\n"
     ]
    }
   ],
   "source": [
    "bib_dir = \"/users/samrelins/documents/lida/dental_project/data/bib_data\"\n",
    "epi_path = os.path.join(bib_dir, \"dental/dsurvey_5yo/data.csv\")\n",
    "epi_data = pd.read_csv(epi_path)\n",
    "epi_data[\"caries_experience\"] = (epi_data.ddsdmft > 0).astype(\"int\")\n",
    "epi_data.info()"
   ],
   "metadata": {
    "collapsed": false,
    "pycharm": {
     "name": "#%%\n"
    }
   }
  },
  {
   "cell_type": "code",
   "execution_count": 9,
   "outputs": [
    {
     "name": "stderr",
     "output_type": "stream",
     "text": [
      "/opt/anaconda3/envs/DentalEnv/lib/python3.8/site-packages/ipykernel/ipkernel.py:287: DeprecationWarning: `should_run_async` will not call `transform_cell` automatically in the future. Please pass the result to `transformed_cell` argument and any exception that happen during thetransform in `preprocessing_exc_tuple` in IPython 7.17 and above.\n",
      "  and should_run_async(code)\n"
     ]
    }
   ],
   "source": [
    "edrecs_data = return_merged_edrecs_df(bib_dir, include_schools=True)\n",
    "\n",
    "edrecs_caries = (epi_data[[\"entity_id\", \"caries_experience\"]]\n",
    "                 .merge(edrecs_data,\n",
    "                        on=\"entity_id\",\n",
    "                        how=\"left\"))"
   ],
   "metadata": {
    "collapsed": false,
    "pycharm": {
     "name": "#%%\n"
    }
   }
  },
  {
   "cell_type": "code",
   "execution_count": 10,
   "outputs": [
    {
     "name": "stderr",
     "output_type": "stream",
     "text": [
      "/opt/anaconda3/envs/DentalEnv/lib/python3.8/site-packages/ipykernel/ipkernel.py:287: DeprecationWarning: `should_run_async` will not call `transform_cell` automatically in the future. Please pass the result to `transformed_cell` argument and any exception that happen during thetransform in `preprocessing_exc_tuple` in IPython 7.17 and above.\n",
      "  and should_run_async(code)\n"
     ]
    }
   ],
   "source": [
    "platoon_data = return_platoon_decay_data(bib_dir)\n",
    "\n",
    "edrecs_platoon = (platoon_data[[\"entity_id\", \"caries_experience\"]]\n",
    "                  .merge(edrecs_data,\n",
    "                         on=\"entity_id\",\n",
    "                         how=\"left\"))"
   ],
   "metadata": {
    "collapsed": false,
    "pycharm": {
     "name": "#%%\n"
    }
   }
  },
  {
   "cell_type": "code",
   "execution_count": 12,
   "outputs": [
    {
     "name": "stderr",
     "output_type": "stream",
     "text": [
      "/opt/anaconda3/envs/DentalEnv/lib/python3.8/site-packages/ipykernel/ipkernel.py:287: DeprecationWarning: `should_run_async` will not call `transform_cell` automatically in the future. Please pass the result to `transformed_cell` argument and any exception that happen during thetransform in `preprocessing_exc_tuple` in IPython 7.17 and above.\n",
      "  and should_run_async(code)\n"
     ]
    },
    {
     "data": {
      "text/plain": "              epi_count  platoon_count\n754480DC77A3          8           55.0\n56E006DA6C39         13           36.0\n80509FC2E343         12           33.0\n1ED87E47C4AA         13           29.0\nE375285975A9          7           25.0\nB706691711C5          6           20.0\nE8785173C21D          1           13.0\n681DC294C2F3          8           13.0\n254B4488A06F          5            8.0\nF45CDBD9EBA7          6            7.0\nE4D07334600D          1            7.0\n99715F346F45          4            1.0\n75C34C9A0720          7            1.0\n6591C000CE6C          1            0.0\n0AF92840611A          1            0.0\nD264AEDD635F          3            0.0\n1627E3EC5BE9          3            0.0\n61665299DDC7          3            0.0\n75681B2C37D9          1            0.0\n49C2C36BA288          3            0.0\nF002BB75E491          3            0.0\n99AB9958D655          3            0.0\nF6F132EFF59F          3            0.0\n1B7DDF4248AB          2            0.0\n34A36110056E          1            0.0\n2F8062AD0360          2            0.0\nC47E3F2FC8D7          1            0.0\n1B1087229951          2            0.0\n7643FB7E8024          1            0.0\nBD4C82933D98          2            0.0\n4D440AAFF400          2            0.0\n6540EB630B00          2            0.0\n0C83943614CF          3            0.0\nA9B712E1DC86          2            0.0\n248C355116F4          1            0.0\n3FACFD381FD6          1            0.0\n0A87324DD178          1            0.0\nC79CE4FD6FCB          1            0.0\nC12B22A0B2A2          3            0.0\n129E157BEDFB         14            0.0\nDAE6D8B63DCD          3            0.0\n9169E4B8D329          7            0.0\n39F457D89EFB         13            0.0\n015D2DC8C4F6         12            0.0\nDFAD97A20D16         12            0.0\nDE90A8DF9970         12            0.0\nF33BDFF6B1D5         11            0.0\n4954D7415D9F          9            0.0\n10073210B4FB          9            0.0\nF0C3ADC7E6F4          8            0.0\n04B9E25EAA6D          8            0.0\n404FCE948781          8            0.0\nA3EC19B4FAE5          8            0.0\n8641BEFC4684          7            0.0\nAFBA661F7D08          4            0.0\n5703BE9B566D          6            0.0\n2EDCD119EDAD          6            0.0\n18ACFDB919C4          6            0.0\n7B28B05B2CEC          6            0.0\n0B199A3D518D          5            0.0\nCFB173DEF348          5            0.0\nEFEE5DD418C8          5            0.0\n072E3758A404          5            0.0\n8C551BE03A52          5            0.0\nB8753B1C7250          4            0.0\nE73F3186C402          4            0.0\nF4C68051A0AE          5            0.0",
      "text/html": "<div>\n<style scoped>\n    .dataframe tbody tr th:only-of-type {\n        vertical-align: middle;\n    }\n\n    .dataframe tbody tr th {\n        vertical-align: top;\n    }\n\n    .dataframe thead th {\n        text-align: right;\n    }\n</style>\n<table border=\"1\" class=\"dataframe\">\n  <thead>\n    <tr style=\"text-align: right;\">\n      <th></th>\n      <th>epi_count</th>\n      <th>platoon_count</th>\n    </tr>\n  </thead>\n  <tbody>\n    <tr>\n      <th>754480DC77A3</th>\n      <td>8</td>\n      <td>55.0</td>\n    </tr>\n    <tr>\n      <th>56E006DA6C39</th>\n      <td>13</td>\n      <td>36.0</td>\n    </tr>\n    <tr>\n      <th>80509FC2E343</th>\n      <td>12</td>\n      <td>33.0</td>\n    </tr>\n    <tr>\n      <th>1ED87E47C4AA</th>\n      <td>13</td>\n      <td>29.0</td>\n    </tr>\n    <tr>\n      <th>E375285975A9</th>\n      <td>7</td>\n      <td>25.0</td>\n    </tr>\n    <tr>\n      <th>B706691711C5</th>\n      <td>6</td>\n      <td>20.0</td>\n    </tr>\n    <tr>\n      <th>E8785173C21D</th>\n      <td>1</td>\n      <td>13.0</td>\n    </tr>\n    <tr>\n      <th>681DC294C2F3</th>\n      <td>8</td>\n      <td>13.0</td>\n    </tr>\n    <tr>\n      <th>254B4488A06F</th>\n      <td>5</td>\n      <td>8.0</td>\n    </tr>\n    <tr>\n      <th>F45CDBD9EBA7</th>\n      <td>6</td>\n      <td>7.0</td>\n    </tr>\n    <tr>\n      <th>E4D07334600D</th>\n      <td>1</td>\n      <td>7.0</td>\n    </tr>\n    <tr>\n      <th>99715F346F45</th>\n      <td>4</td>\n      <td>1.0</td>\n    </tr>\n    <tr>\n      <th>75C34C9A0720</th>\n      <td>7</td>\n      <td>1.0</td>\n    </tr>\n    <tr>\n      <th>6591C000CE6C</th>\n      <td>1</td>\n      <td>0.0</td>\n    </tr>\n    <tr>\n      <th>0AF92840611A</th>\n      <td>1</td>\n      <td>0.0</td>\n    </tr>\n    <tr>\n      <th>D264AEDD635F</th>\n      <td>3</td>\n      <td>0.0</td>\n    </tr>\n    <tr>\n      <th>1627E3EC5BE9</th>\n      <td>3</td>\n      <td>0.0</td>\n    </tr>\n    <tr>\n      <th>61665299DDC7</th>\n      <td>3</td>\n      <td>0.0</td>\n    </tr>\n    <tr>\n      <th>75681B2C37D9</th>\n      <td>1</td>\n      <td>0.0</td>\n    </tr>\n    <tr>\n      <th>49C2C36BA288</th>\n      <td>3</td>\n      <td>0.0</td>\n    </tr>\n    <tr>\n      <th>F002BB75E491</th>\n      <td>3</td>\n      <td>0.0</td>\n    </tr>\n    <tr>\n      <th>99AB9958D655</th>\n      <td>3</td>\n      <td>0.0</td>\n    </tr>\n    <tr>\n      <th>F6F132EFF59F</th>\n      <td>3</td>\n      <td>0.0</td>\n    </tr>\n    <tr>\n      <th>1B7DDF4248AB</th>\n      <td>2</td>\n      <td>0.0</td>\n    </tr>\n    <tr>\n      <th>34A36110056E</th>\n      <td>1</td>\n      <td>0.0</td>\n    </tr>\n    <tr>\n      <th>2F8062AD0360</th>\n      <td>2</td>\n      <td>0.0</td>\n    </tr>\n    <tr>\n      <th>C47E3F2FC8D7</th>\n      <td>1</td>\n      <td>0.0</td>\n    </tr>\n    <tr>\n      <th>1B1087229951</th>\n      <td>2</td>\n      <td>0.0</td>\n    </tr>\n    <tr>\n      <th>7643FB7E8024</th>\n      <td>1</td>\n      <td>0.0</td>\n    </tr>\n    <tr>\n      <th>BD4C82933D98</th>\n      <td>2</td>\n      <td>0.0</td>\n    </tr>\n    <tr>\n      <th>4D440AAFF400</th>\n      <td>2</td>\n      <td>0.0</td>\n    </tr>\n    <tr>\n      <th>6540EB630B00</th>\n      <td>2</td>\n      <td>0.0</td>\n    </tr>\n    <tr>\n      <th>0C83943614CF</th>\n      <td>3</td>\n      <td>0.0</td>\n    </tr>\n    <tr>\n      <th>A9B712E1DC86</th>\n      <td>2</td>\n      <td>0.0</td>\n    </tr>\n    <tr>\n      <th>248C355116F4</th>\n      <td>1</td>\n      <td>0.0</td>\n    </tr>\n    <tr>\n      <th>3FACFD381FD6</th>\n      <td>1</td>\n      <td>0.0</td>\n    </tr>\n    <tr>\n      <th>0A87324DD178</th>\n      <td>1</td>\n      <td>0.0</td>\n    </tr>\n    <tr>\n      <th>C79CE4FD6FCB</th>\n      <td>1</td>\n      <td>0.0</td>\n    </tr>\n    <tr>\n      <th>C12B22A0B2A2</th>\n      <td>3</td>\n      <td>0.0</td>\n    </tr>\n    <tr>\n      <th>129E157BEDFB</th>\n      <td>14</td>\n      <td>0.0</td>\n    </tr>\n    <tr>\n      <th>DAE6D8B63DCD</th>\n      <td>3</td>\n      <td>0.0</td>\n    </tr>\n    <tr>\n      <th>9169E4B8D329</th>\n      <td>7</td>\n      <td>0.0</td>\n    </tr>\n    <tr>\n      <th>39F457D89EFB</th>\n      <td>13</td>\n      <td>0.0</td>\n    </tr>\n    <tr>\n      <th>015D2DC8C4F6</th>\n      <td>12</td>\n      <td>0.0</td>\n    </tr>\n    <tr>\n      <th>DFAD97A20D16</th>\n      <td>12</td>\n      <td>0.0</td>\n    </tr>\n    <tr>\n      <th>DE90A8DF9970</th>\n      <td>12</td>\n      <td>0.0</td>\n    </tr>\n    <tr>\n      <th>F33BDFF6B1D5</th>\n      <td>11</td>\n      <td>0.0</td>\n    </tr>\n    <tr>\n      <th>4954D7415D9F</th>\n      <td>9</td>\n      <td>0.0</td>\n    </tr>\n    <tr>\n      <th>10073210B4FB</th>\n      <td>9</td>\n      <td>0.0</td>\n    </tr>\n    <tr>\n      <th>F0C3ADC7E6F4</th>\n      <td>8</td>\n      <td>0.0</td>\n    </tr>\n    <tr>\n      <th>04B9E25EAA6D</th>\n      <td>8</td>\n      <td>0.0</td>\n    </tr>\n    <tr>\n      <th>404FCE948781</th>\n      <td>8</td>\n      <td>0.0</td>\n    </tr>\n    <tr>\n      <th>A3EC19B4FAE5</th>\n      <td>8</td>\n      <td>0.0</td>\n    </tr>\n    <tr>\n      <th>8641BEFC4684</th>\n      <td>7</td>\n      <td>0.0</td>\n    </tr>\n    <tr>\n      <th>AFBA661F7D08</th>\n      <td>4</td>\n      <td>0.0</td>\n    </tr>\n    <tr>\n      <th>5703BE9B566D</th>\n      <td>6</td>\n      <td>0.0</td>\n    </tr>\n    <tr>\n      <th>2EDCD119EDAD</th>\n      <td>6</td>\n      <td>0.0</td>\n    </tr>\n    <tr>\n      <th>18ACFDB919C4</th>\n      <td>6</td>\n      <td>0.0</td>\n    </tr>\n    <tr>\n      <th>7B28B05B2CEC</th>\n      <td>6</td>\n      <td>0.0</td>\n    </tr>\n    <tr>\n      <th>0B199A3D518D</th>\n      <td>5</td>\n      <td>0.0</td>\n    </tr>\n    <tr>\n      <th>CFB173DEF348</th>\n      <td>5</td>\n      <td>0.0</td>\n    </tr>\n    <tr>\n      <th>EFEE5DD418C8</th>\n      <td>5</td>\n      <td>0.0</td>\n    </tr>\n    <tr>\n      <th>072E3758A404</th>\n      <td>5</td>\n      <td>0.0</td>\n    </tr>\n    <tr>\n      <th>8C551BE03A52</th>\n      <td>5</td>\n      <td>0.0</td>\n    </tr>\n    <tr>\n      <th>B8753B1C7250</th>\n      <td>4</td>\n      <td>0.0</td>\n    </tr>\n    <tr>\n      <th>E73F3186C402</th>\n      <td>4</td>\n      <td>0.0</td>\n    </tr>\n    <tr>\n      <th>F4C68051A0AE</th>\n      <td>5</td>\n      <td>0.0</td>\n    </tr>\n  </tbody>\n</table>\n</div>"
     },
     "execution_count": 12,
     "metadata": {},
     "output_type": "execute_result"
    }
   ],
   "source": [
    "pd.set_option(\"display.max_rows\", None)\n",
    "epi_schools = pd.DataFrame(\n",
    "    edrecs_caries.phonics_testestablishment1.value_counts()\n",
    ").rename({\"phonics_testestablishment1\": \"epi_count\"}, axis=1)\n",
    "\n",
    "platoon_schools = pd.DataFrame(\n",
    "    edrecs_platoon.phonics_testestablishment1.value_counts()\n",
    ").rename({\"phonics_testestablishment1\": \"platoon_count\"}, axis=1)\n",
    "\n",
    "school_counts = (epi_schools.join(platoon_schools, how=\"left\")\n",
    "                 .fillna(0)\n",
    "                 .sort_values(\"platoon_count\", ascending=False))\n",
    "school_counts"
   ],
   "metadata": {
    "collapsed": false,
    "pycharm": {
     "name": "#%%\n"
    }
   }
  },
  {
   "cell_type": "code",
   "execution_count": null,
   "outputs": [],
   "source": [],
   "metadata": {
    "collapsed": false,
    "pycharm": {
     "name": "#%%\n"
    }
   }
  }
 ],
 "metadata": {
  "kernelspec": {
   "display_name": "Python 3",
   "language": "python",
   "name": "python3"
  },
  "language_info": {
   "codemirror_mode": {
    "name": "ipython",
    "version": 2
   },
   "file_extension": ".py",
   "mimetype": "text/x-python",
   "name": "python",
   "nbconvert_exporter": "python",
   "pygments_lexer": "ipython2",
   "version": "2.7.6"
  }
 },
 "nbformat": 4,
 "nbformat_minor": 0
}