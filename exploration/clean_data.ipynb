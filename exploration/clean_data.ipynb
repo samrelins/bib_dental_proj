{
 "cells": [
  {
   "cell_type": "markdown",
   "metadata": {
    "pycharm": {
     "name": "#%% md\n"
    }
   },
   "source": [
    "#### base_m_survey - https://borninbradford.github.io/datadict/bib/bib_baseline/"
   ]
  },
  {
   "cell_type": "code",
   "execution_count": 1,
   "metadata": {
    "pycharm": {
     "name": "#%%\n"
    }
   },
   "outputs": [],
   "source": [
    "import sys\n",
    "\n",
    "sys.path.append('/Users/samrelins/Documents/LIDA/dental_project/src/')\n",
    "\n",
    "from baseline_data_prep import *\n",
    "from education_data_prep import *\n",
    "from ga_data_prep import *\n",
    "import os\n",
    "import pandas as pd\n",
    "import plotly.express as px\n",
    "from patsy import dmatrices\n",
    "import statsmodels.api as sm"
   ]
  },
  {
   "cell_type": "markdown",
   "metadata": {
    "pycharm": {
     "name": "#%% md\n"
    }
   },
   "source": [
    "### Load and Merge Baseline Questionnaire Data With GA Data"
   ]
  },
  {
   "cell_type": "code",
   "execution_count": 3,
   "metadata": {
    "pycharm": {
     "name": "#%%\n"
    }
   },
   "outputs": [
    {
     "name": "stderr",
     "output_type": "stream",
     "text": [
      "/opt/anaconda3/envs/DentalEnv/lib/python3.8/site-packages/IPython/core/interactiveshell.py:3165: DtypeWarning: Columns (110,247,303) have mixed types.Specify dtype option on import or set low_memory=False.\n",
      "  has_raised = await self.run_ast_nodes(code_ast.body, cell_name,\n"
     ]
    },
    {
     "name": "stdout",
     "output_type": "stream",
     "text": [
      "<class 'pandas.core.frame.DataFrame'>\n",
      "RangeIndex: 11395 entries, 0 to 11394\n",
      "Columns: 342 entries, entity_id to vit0vitipr\n",
      "dtypes: float64(299), int64(6), object(37)\n",
      "memory usage: 29.7+ MB\n",
      "<class 'pandas.core.frame.DataFrame'>\n",
      "Int64Index: 11474 entries, 0 to 11553\n",
      "Columns: 343 entries, BiBMotherID to entity_id\n",
      "dtypes: float64(299), int64(6), object(38)\n",
      "memory usage: 30.1+ MB\n"
     ]
    }
   ],
   "source": [
    "bib_dir = \"/Users/samrelins/Documents/LIDA/dental_project/data/bib_data/\"\n",
    "\n",
    "baseline_path = os.path.join(bib_dir, \"other/base_m_survey.csv\")\n",
    "baseline_data = pd.read_csv(baseline_path)\n",
    "baseline_data.info()\n",
    "\n",
    "# load person data and extract relevant columns\n",
    "person_path = os.path.join(bib_dir, \"other/person_info.csv\")\n",
    "person_data = pd.read_csv(person_path)\n",
    "person_data = person_data[person_data.ParticipantType == \"Child\"]\n",
    "person_data = person_data[[\"BiBMotherID\", \"BiBPregNumber\", \"entity_id\"]]\n",
    "\n",
    "# join baseline data with child IDs\n",
    "baseline_data.rename({\"entity_id\": \"BiBMotherID\"}, axis=1, inplace=True)\n",
    "baseline_data = baseline_data.merge(person_data,\n",
    "                                    on=[\"BiBMotherID\", \"BiBPregNumber\"],\n",
    "                                    how=\"left\")\n",
    "baseline_data.dropna(subset=[\"entity_id\"], inplace=True)\n",
    "baseline_data.info()"
   ]
  },
  {
   "cell_type": "code",
   "execution_count": null,
   "metadata": {
    "pycharm": {
     "name": "#%%\n"
    }
   },
   "outputs": [],
   "source": []
  }
 ],
 "metadata": {
  "kernelspec": {
   "display_name": "Python 3",
   "language": "python",
   "name": "python3"
  },
  "language_info": {
   "codemirror_mode": {
    "name": "ipython",
    "version": 3
   },
   "file_extension": ".py",
   "mimetype": "text/x-python",
   "name": "python",
   "nbconvert_exporter": "python",
   "pygments_lexer": "ipython3",
   "version": "3.8.5"
  }
 },
 "nbformat": 4,
 "nbformat_minor": 1
}
