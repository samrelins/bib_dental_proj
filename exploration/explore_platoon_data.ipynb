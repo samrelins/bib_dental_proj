{
 "cells": [
  {
   "cell_type": "code",
   "execution_count": 1,
   "metadata": {
    "collapsed": true
   },
   "outputs": [],
   "source": [
    "import pandas as pd\n",
    "import os\n",
    "import numpy as np"
   ]
  },
  {
   "cell_type": "code",
   "execution_count": 2,
   "outputs": [
    {
     "name": "stdout",
     "output_type": "stream",
     "text": [
      "<class 'pandas.core.frame.DataFrame'>\n",
      "RangeIndex: 334 entries, 0 to 333\n",
      "Data columns (total 17 columns):\n",
      " #   Column                  Non-Null Count  Dtype  \n",
      "---  ------                  --------------  -----  \n",
      " 0   entity_id               334 non-null    object \n",
      " 1   ortho_assess_year       334 non-null    float64\n",
      " 2   ortho_assess_month      334 non-null    float64\n",
      " 3   Lips                    334 non-null    object \n",
      " 4   MasticatoryProblems     334 non-null    float64\n",
      " 5   IncisorRelationship     334 non-null    object \n",
      " 6   RightMolarRelationship  331 non-null    object \n",
      " 7   LeftMolarRelationship   331 non-null    object \n",
      " 8   PermanentCanines        245 non-null    object \n",
      " 9   PrimaryCanines          223 non-null    object \n",
      " 10  Overjet                 334 non-null    object \n",
      " 11  Overbite                334 non-null    object \n",
      " 12  Centrelines             334 non-null    object \n",
      " 13  Crossbites              334 non-null    object \n",
      " 14  Deviation               334 non-null    int64  \n",
      " 15  SkeletalPattern         334 non-null    object \n",
      " 16  ortho_notes             70 non-null     object \n",
      "dtypes: float64(3), int64(1), object(13)\n",
      "memory usage: 44.5+ KB\n"
     ]
    }
   ],
   "source": [
    "bib_dir = '/Users/samrelins/Documents/LIDA/dental_project/data/bib_data/'\n",
    "ortho_path = os.path.join(bib_dir, \"dental/plat_ortho/data.csv\")\n",
    "ortho_data = pd.read_csv(ortho_path)\n",
    "ortho_data.info()"
   ],
   "metadata": {
    "collapsed": false,
    "pycharm": {
     "name": "#%%\n"
    }
   }
  },
  {
   "cell_type": "code",
   "execution_count": 3,
   "outputs": [
    {
     "name": "stdout",
     "output_type": "stream",
     "text": [
      "<class 'pandas.core.frame.DataFrame'>\n",
      "RangeIndex: 13878 entries, 0 to 13877\n",
      "Data columns (total 28 columns):\n",
      " #   Column          Non-Null Count  Dtype  \n",
      "---  ------          --------------  -----  \n",
      " 0   entity_id       13878 non-null  object \n",
      " 1   DateOfBirth     13878 non-null  object \n",
      " 2   Gender          13878 non-null  object \n",
      " 3   year_of_birth   13878 non-null  int64  \n",
      " 4   month_of_birth  13878 non-null  int64  \n",
      " 5   school_linkage  13878 non-null  float64\n",
      " 6   plat_eligible   13878 non-null  float64\n",
      " 7   plat_case       8364 non-null   float64\n",
      " 8   school_id       8217 non-null   object \n",
      " 9   academic_year   8364 non-null   float64\n",
      " 10  ConRead         388 non-null    float64\n",
      " 11  ConWhy          388 non-null    float64\n",
      " 12  ConDecision     388 non-null    float64\n",
      " 13  ConSecure       388 non-null    float64\n",
      " 14  ConLookedAt     388 non-null    float64\n",
      " 15  ConWithdrawn    388 non-null    float64\n",
      " 16  ConFace         388 non-null    float64\n",
      " 17  ConTeeth        388 non-null    float64\n",
      " 18  ConImpressions  388 non-null    float64\n",
      " 19  ConStoreSecure  388 non-null    float64\n",
      " 20  ConLinked       388 non-null    float64\n",
      " 21  ConFuture       388 non-null    float64\n",
      " 22  ConContact      388 non-null    float64\n",
      " 23  ConExtracted    388 non-null    float64\n",
      " 24  plat_recruited  13878 non-null  float64\n",
      " 25  has_ortho       13878 non-null  float64\n",
      " 26  has_survey      13878 non-null  float64\n",
      " 27  has_teeth_data  13878 non-null  float64\n",
      "dtypes: float64(22), int64(2), object(4)\n",
      "memory usage: 3.0+ MB\n"
     ]
    }
   ],
   "source": [
    "person_path = os.path.join(bib_dir, \"dental/plat_person/data.csv\")\n",
    "person_data = pd.read_csv(person_path)\n",
    "person_data.info()"
   ],
   "metadata": {
    "collapsed": false,
    "pycharm": {
     "name": "#%%\n"
    }
   }
  },
  {
   "cell_type": "code",
   "execution_count": 4,
   "outputs": [
    {
     "name": "stdout",
     "output_type": "stream",
     "text": [
      "<class 'pandas.core.frame.DataFrame'>\n",
      "RangeIndex: 332 entries, 0 to 331\n",
      "Data columns (total 23 columns):\n",
      " #   Column            Non-Null Count  Dtype  \n",
      "---  ------            --------------  -----  \n",
      " 0   entity_id         332 non-null    object \n",
      " 1   survey_year       332 non-null    float64\n",
      " 2   survey_month      332 non-null    float64\n",
      " 3   plat_pain         332 non-null    float64\n",
      " 4   plat_crooked      332 non-null    float64\n",
      " 5   plat_discoloured  332 non-null    float64\n",
      " 6   plat_breath       332 non-null    float64\n",
      " 7   plat_gums         332 non-null    float64\n",
      " 8   plat_unhappy      332 non-null    float64\n",
      " 9   plat_school       332 non-null    float64\n",
      " 10  plat_confident    332 non-null    float64\n",
      " 11  plat_difficulty   332 non-null    float64\n",
      " 12  plat_anxious      332 non-null    float64\n",
      " 13  plat_speak        332 non-null    float64\n",
      " 14  plat_smile        332 non-null    float64\n",
      " 15  plat_sleeping     332 non-null    float64\n",
      " 16  plat_teased       332 non-null    float64\n",
      " 17  plat_attractive   332 non-null    float64\n",
      " 18  plat_different    332 non-null    float64\n",
      " 19  plat_words        332 non-null    float64\n",
      " 20  plat_clean        332 non-null    float64\n",
      " 21  plat_people       332 non-null    float64\n",
      " 22  plat_overall      332 non-null    float64\n",
      "dtypes: float64(22), object(1)\n",
      "memory usage: 59.8+ KB\n"
     ]
    }
   ],
   "source": [
    "survey_path = os.path.join(bib_dir, \"dental/plat_survey/data.csv\")\n",
    "survey_data = pd.read_csv(survey_path)\n",
    "survey_data.info()"
   ],
   "metadata": {
    "collapsed": false,
    "pycharm": {
     "name": "#%%\n"
    }
   }
  },
  {
   "cell_type": "code",
   "execution_count": 7,
   "outputs": [
    {
     "name": "stdout",
     "output_type": "stream",
     "text": [
      "<class 'pandas.core.frame.DataFrame'>\n",
      "RangeIndex: 344 entries, 0 to 343\n",
      "Data columns (total 52 columns):\n",
      " #   Column              Non-Null Count  Dtype  \n",
      "---  ------              --------------  -----  \n",
      " 0   entity_id           344 non-null    object \n",
      " 1   teeth_assess_year   344 non-null    float64\n",
      " 2   teeth_assess_month  344 non-null    float64\n",
      " 3   tooth55             344 non-null    float64\n",
      " 4   tooth54             344 non-null    float64\n",
      " 5   tooth53             344 non-null    float64\n",
      " 6   tooth52             344 non-null    float64\n",
      " 7   tooth51             344 non-null    float64\n",
      " 8   tooth61             344 non-null    float64\n",
      " 9   tooth62             344 non-null    float64\n",
      " 10  tooth63             344 non-null    float64\n",
      " 11  tooth64             344 non-null    float64\n",
      " 12  tooth65             344 non-null    float64\n",
      " 13  tooth85             344 non-null    float64\n",
      " 14  tooth84             344 non-null    float64\n",
      " 15  tooth83             344 non-null    float64\n",
      " 16  tooth82             344 non-null    float64\n",
      " 17  tooth81             344 non-null    float64\n",
      " 18  tooth71             344 non-null    float64\n",
      " 19  tooth72             344 non-null    float64\n",
      " 20  tooth73             344 non-null    float64\n",
      " 21  tooth74             344 non-null    float64\n",
      " 22  tooth75             344 non-null    float64\n",
      " 23  tooth17             344 non-null    float64\n",
      " 24  tooth16             344 non-null    float64\n",
      " 25  tooth15             344 non-null    float64\n",
      " 26  tooth14             344 non-null    float64\n",
      " 27  tooth13             344 non-null    float64\n",
      " 28  tooth12             344 non-null    float64\n",
      " 29  tooth11             344 non-null    float64\n",
      " 30  tooth21             344 non-null    float64\n",
      " 31  tooth22             344 non-null    float64\n",
      " 32  tooth23             344 non-null    float64\n",
      " 33  tooth24             344 non-null    float64\n",
      " 34  tooth25             344 non-null    float64\n",
      " 35  tooth26             344 non-null    float64\n",
      " 36  tooth27             344 non-null    float64\n",
      " 37  tooth47             344 non-null    float64\n",
      " 38  tooth46             344 non-null    float64\n",
      " 39  tooth45             344 non-null    float64\n",
      " 40  tooth44             344 non-null    float64\n",
      " 41  tooth43             344 non-null    float64\n",
      " 42  tooth42             344 non-null    float64\n",
      " 43  tooth41             344 non-null    float64\n",
      " 44  tooth31             344 non-null    float64\n",
      " 45  tooth32             344 non-null    float64\n",
      " 46  tooth33             344 non-null    float64\n",
      " 47  tooth34             344 non-null    float64\n",
      " 48  tooth35             344 non-null    float64\n",
      " 49  tooth36             344 non-null    float64\n",
      " 50  tooth37             344 non-null    float64\n",
      " 51  teeth_notes         22 non-null     object \n",
      "dtypes: float64(50), object(2)\n",
      "memory usage: 139.9+ KB\n"
     ]
    }
   ],
   "source": [
    "teeth_path = os.path.join(bib_dir, \"dental/plat_teeth/data.csv\")\n",
    "teeth_data = pd.read_csv(teeth_path)\n",
    "teeth_data.info()\n",
    "\n",
    "dmft_codes = {\n",
    "    2: 1,\n",
    "    3: 1,\n",
    "    4: 1,\n",
    "    6: 1,\n",
    "    0: 0,\n",
    "    1: 0,\n",
    "    5: 0,\n",
    "    7: 0\n",
    "}\n",
    "\n",
    "primary_teeth = [col for col in teeth_data.columns\n",
    "                 if col[-2] in [\"5\", \"6\", \"7\", \"8\"]]\n",
    "teeth_data[\"dmft\"] = np.zeros(len(teeth_data))\n",
    "for tooth in primary_teeth:\n",
    "    teeth_data[\"dmft\"] += teeth_data[tooth].map(dmft_codes)\n",
    "teeth_data[\"primary_caries\"] = teeth_data.dmft > 0\n",
    "\n",
    "permenent_teeth = [col for col in teeth_data.columns\n",
    "                   if col[-2] in [\"1\", \"2\", \"3\", \"4\"]]\n",
    "teeth_data[\"DMFT\"] = np.zeros(len(teeth_data))\n",
    "for tooth in permenent_teeth:\n",
    "    teeth_data[\"DMFT\"] += teeth_data[tooth].map(dmft_codes)\n",
    "teeth_data[\"secondary_caries\"] = teeth_data.DMFT > 0\n",
    "\n",
    "teeth_data[\"any_caries\"] = teeth_data.dmft + teeth_data.DMFT > 0\n"
   ],
   "metadata": {
    "collapsed": false,
    "pycharm": {
     "name": "#%%\n"
    }
   }
  }
 ],
 "metadata": {
  "kernelspec": {
   "display_name": "Python 3",
   "language": "python",
   "name": "python3"
  },
  "language_info": {
   "codemirror_mode": {
    "name": "ipython",
    "version": 2
   },
   "file_extension": ".py",
   "mimetype": "text/x-python",
   "name": "python",
   "nbconvert_exporter": "python",
   "pygments_lexer": "ipython2",
   "version": "2.7.6"
  }
 },
 "nbformat": 4,
 "nbformat_minor": 0
}