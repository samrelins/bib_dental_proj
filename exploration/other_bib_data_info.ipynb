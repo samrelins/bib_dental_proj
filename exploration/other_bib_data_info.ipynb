{
 "cells": [
  {
   "cell_type": "markdown",
   "source": [
    "#### m_derived_info - https://borninbradford.github.io/datadict/bib/bib_cohortinfo/m_derived_info/\n",
    "\n",
    "#### dnam_info - https://borninbradford.github.io/datadict/bib/bib_cohortinfo/dnam_info/\n",
    "\n",
    "#### preg_info - https://borninbradford.github.io/datadict/bib/bib_cohortinfo/preg_info/\n",
    "\n",
    "#### dd_table_info - explanatory csv with details of various files in directory\n",
    "\n",
    "#### mother_info - https://borninbradford.github.io/datadict/bib/bib_cohortinfo/person_info/mother_info/\n",
    "\n",
    "#### exomeseq_info - https://borninbradford.github.io/datadict/bib/bib_cohortinfo/exomeseq_info/\n",
    "\n",
    "#### base_m_survey - https://borninbradford.github.io/datadict/bib/bib_baseline/\n",
    "\n",
    "#### father_info - https://borninbradford.github.io/datadict/bib/bib_cohortinfo/person_info/father_info/\n",
    "\n",
    "#### person_info - https://borninbradford.github.io/datadict/bib/bib_cohortinfo/person_info/\n",
    "\n",
    "#### genotyping_info - https://borninbradford.github.io/datadict/bib/bib_cohortinfo/genotyping_info/\n",
    "\n",
    "#### dnam_controls - https://borninbradford.github.io/datadict/bib/bib_cohortinfo/dnam_info/dnam_controls/\n",
    "\n",
    "#### child_info - https://borninbradford.github.io/datadict/bib/bib_cohortinfo/person_info/child_info/"
   ],
   "metadata": {
    "collapsed": false,
    "pycharm": {
     "name": "#%% md\n"
    }
   }
  },
  {
   "cell_type": "code",
   "execution_count": null,
   "outputs": [],
   "source": [
    "import sys\n",
    "\n",
    "sys.path.append('/Users/samrelins/Documents/LIDA/dental_project/src/')\n",
    "\n",
    "from education_data_prep import *\n",
    "from ga_data_prep import *\n",
    "import os\n",
    "import pandas as pd\n",
    "import plotly.express as px\n",
    "from patsy import dmatrices\n",
    "import statsmodels.api as sm"
   ],
   "metadata": {
    "collapsed": false,
    "pycharm": {
     "name": "#%%\n"
    }
   }
  },
  {
   "cell_type": "code",
   "execution_count": null,
   "outputs": [],
   "source": [
    "baseline_dir = '/Users/samrelins/Documents/LIDA/dental_project/data/bib_data/other'\n",
    "os.listdir(baseline_dir)\n"
   ],
   "metadata": {
    "collapsed": false,
    "pycharm": {
     "name": "#%%\n"
    }
   }
  }
 ],
 "metadata": {
  "kernelspec": {
   "display_name": "Python 3",
   "language": "python",
   "name": "python3"
  },
  "language_info": {
   "codemirror_mode": {
    "name": "ipython",
    "version": 2
   },
   "file_extension": ".py",
   "mimetype": "text/x-python",
   "name": "python",
   "nbconvert_exporter": "python",
   "pygments_lexer": "ipython2",
   "version": "2.7.6"
  }
 },
 "nbformat": 4,
 "nbformat_minor": 0
}