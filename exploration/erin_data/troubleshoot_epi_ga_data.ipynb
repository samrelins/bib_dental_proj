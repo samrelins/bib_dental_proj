{
 "cells": [
  {
   "cell_type": "code",
   "execution_count": 1,
   "metadata": {
    "collapsed": true
   },
   "outputs": [],
   "source": [
    "import pandas as pd\n",
    "import numpy as np\n",
    "import os\n",
    "from IPython.display import display\n",
    "\n",
    "data_dir = \"../data/erin_data\"\n",
    "\n",
    "pd.set_option(\"display.max_columns\", None)\n",
    "\n",
    "# read in GA data\n",
    "ga_data_path = os.path.join(data_dir, \"ga_data.csv\")\n",
    "ga_data = pd.read_csv(ga_data_path)\n",
    "ga_data.replace([\" \"], np.nan, inplace=True)\n",
    "\n",
    "# weight variable is numeric but stored as object - convert to float\n",
    "ga_data[\"dgaWeight\"] = ga_data.dgaWeight.astype(\"float\")"
   ]
  },
  {
   "cell_type": "markdown",
   "source": [
    "## Error with dgaGA cols:\n",
    "\n",
    "for some reason \"dgaGAType\" , \"dgaGATotal\", and \"dgaGASequence\" have been converted from their respective integer values to take the values \"Extracted\": 1, \"Filled\": 2, \"Sealed\": 3\n",
    "\n",
    "convert them back to correct values - dgaGAType maps to 1 = exodontia, 2 = comprehensive care - other two are integer fields"
   ],
   "metadata": {
    "collapsed": false,
    "pycharm": {
     "name": "#%% md\n"
    }
   }
  },
  {
   "cell_type": "code",
   "execution_count": 2,
   "outputs": [
    {
     "name": "stdout",
     "output_type": "stream",
     "text": [
      "<class 'pandas.core.frame.DataFrame'>\n",
      "RangeIndex: 1088 entries, 0 to 1087\n",
      "Data columns (total 45 columns):\n",
      " #   Column             Non-Null Count  Dtype  \n",
      "---  ------             --------------  -----  \n",
      " 0   ChildID            1088 non-null   int64  \n",
      " 1   AgeMths            1088 non-null   int64  \n",
      " 2   PregnancyID        1088 non-null   object \n",
      " 3   MotherID           1088 non-null   int64  \n",
      " 4   FatherID           219 non-null    float64\n",
      " 5   dgaGAType          1088 non-null   object \n",
      " 6   dgaGATotal         1088 non-null   int64  \n",
      " 7   dgaGASequence      1088 non-null   int64  \n",
      " 8   dgaWeight          915 non-null    float64\n",
      " 9   dgaUR6             1087 non-null   object \n",
      " 10  dgaURE             1087 non-null   object \n",
      " 11  dgaURD             1085 non-null   object \n",
      " 12  dgaURC             1088 non-null   object \n",
      " 13  dgaURB             1088 non-null   object \n",
      " 14  dgaURA             1085 non-null   object \n",
      " 15  dgaULA             1086 non-null   object \n",
      " 16  dgaULB             1087 non-null   object \n",
      " 17  dgaULC             1088 non-null   object \n",
      " 18  dgaULD             1086 non-null   object \n",
      " 19  dgaULE             1088 non-null   object \n",
      " 20  dgaUL6             1088 non-null   object \n",
      " 21  dgaLL6             1088 non-null   object \n",
      " 22  dgaLLE             1087 non-null   object \n",
      " 23  dgaLLD             1086 non-null   object \n",
      " 24  dgaLLC             1088 non-null   object \n",
      " 25  dgaLLB             1088 non-null   object \n",
      " 26  dgaLLA             1087 non-null   object \n",
      " 27  dgaLRA             1087 non-null   object \n",
      " 28  dgaLRB             1088 non-null   object \n",
      " 29  dgaLRC             1088 non-null   object \n",
      " 30  dgaLRD             1087 non-null   object \n",
      " 31  dgaLRE             1086 non-null   object \n",
      " 32  dgaLR6             1088 non-null   object \n",
      " 33  dgaUR4             3 non-null      object \n",
      " 34  dgaUR1             3 non-null      object \n",
      " 35  dgaUL1             2 non-null      object \n",
      " 36  dgaUL4             2 non-null      object \n",
      " 37  dgaLL5             1 non-null      object \n",
      " 38  dgaLL4             2 non-null      object \n",
      " 39  dgaLL1             1 non-null      object \n",
      " 40  dgaLR1             1 non-null      object \n",
      " 41  dgaLR4             1 non-null      object \n",
      " 42  dgaLR5             1 non-null      object \n",
      " 43  res6mcage          1088 non-null   int64  \n",
      " 44  res6mcbetterstart  1088 non-null   object \n",
      "dtypes: float64(2), int64(6), object(37)\n",
      "memory usage: 382.6+ KB\n"
     ]
    }
   ],
   "source": [
    "correct_tot_seq_vals = {\n",
    "    \"Extracted\": 1,\n",
    "    \"Filled\": 2,\n",
    "    \"Sealed\": 3,\n",
    "}\n",
    "\n",
    "ga_data[\"dgaGATotal\"] = ga_data[\"dgaGATotal\"].map(correct_tot_seq_vals)\n",
    "ga_data[\"dgaGATotal\"] = ga_data[\"dgaGATotal\"].astype(\"int\")\n",
    "ga_data[\"dgaGASequence\"] = ga_data[\"dgaGASequence\"].map(correct_tot_seq_vals)\n",
    "ga_data[\"dgaGASequence\"] = ga_data[\"dgaGASequence\"].astype(\"int\")\n",
    "\n",
    "correct_type_vals = {\n",
    "    \"Extracted\" : \"exodontia\",\n",
    "    \"Filled\" : \"comprehensive_care\"\n",
    "}\n",
    "\n",
    "ga_data[\"dgaGAType\"] = ga_data.dgaGAType.map(correct_type_vals)\n",
    "ga_data.info()"
   ],
   "metadata": {
    "collapsed": false,
    "pycharm": {
     "name": "#%%\n"
    }
   }
  },
  {
   "cell_type": "code",
   "execution_count": 3,
   "outputs": [
    {
     "name": "stdout",
     "output_type": "stream",
     "text": [
      "<class 'pandas.core.frame.DataFrame'>\n",
      "RangeIndex: 354 entries, 0 to 353\n",
      "Data columns (total 12 columns):\n",
      " #   Column             Non-Null Count  Dtype  \n",
      "---  ------             --------------  -----  \n",
      " 0   ChildID            354 non-null    int64  \n",
      " 1   PregnancyID        354 non-null    object \n",
      " 2   MotherID           354 non-null    int64  \n",
      " 3   FatherID           111 non-null    float64\n",
      " 4   AgeMths            354 non-null    int64  \n",
      " 5   ddsdt              354 non-null    int64  \n",
      " 6   ddsmt              354 non-null    int64  \n",
      " 7   ddsft              354 non-null    int64  \n",
      " 8   ddsdmft            354 non-null    int64  \n",
      " 9   ddscareindex       354 non-null    int64  \n",
      " 10  res6mcage          354 non-null    int64  \n",
      " 11  res6mcbetterstart  354 non-null    object \n",
      "dtypes: float64(1), int64(9), object(2)\n",
      "memory usage: 33.3+ KB\n"
     ]
    }
   ],
   "source": [
    "# read in epi data\n",
    "epi_data_path = os.path.join(data_dir, \"epi_data.csv\")\n",
    "epi_data = pd.read_csv(epi_data_path)\n",
    "epi_data.replace([\" \"], np.nan, inplace=True)\n",
    "epi_data.info()"
   ],
   "metadata": {
    "collapsed": false,
    "pycharm": {
     "name": "#%%\n"
    }
   }
  },
  {
   "cell_type": "code",
   "execution_count": 4,
   "outputs": [
    {
     "name": "stdout",
     "output_type": "stream",
     "text": [
      "<class 'pandas.core.frame.DataFrame'>\n",
      "RangeIndex: 1416 entries, 2 to 1417\n",
      "Data columns (total 77 columns):\n",
      " #   Column                             Non-Null Count  Dtype  \n",
      "---  ------                             --------------  -----  \n",
      " 0   ChildID                            1416 non-null   int64  \n",
      " 1   PregnancyID                        1399 non-null   object \n",
      " 2   MotherID                           1399 non-null   float64\n",
      " 3   FatherID                           318 non-null    float64\n",
      " 4   admincgender                       1399 non-null   object \n",
      " 5   agefm_fbqall                       311 non-null    float64\n",
      " 6   agemm_mbqall                       1126 non-null   float64\n",
      " 7   ben0mentst                         1122 non-null   object \n",
      " 8   bib6a02                            139 non-null    object \n",
      " 9   bib6b04                            139 non-null    object \n",
      " 10  bib6b05                            141 non-null    object \n",
      " 11  deminfeth3gpcomb                   1357 non-null   object \n",
      " 12  edcont_eal                         1353 non-null   object \n",
      " 13  edcont_lac                         1366 non-null   object \n",
      " 14  edcont_sen                         1352 non-null   object \n",
      " 15  edu0fthede                         1122 non-null   object \n",
      " 16  edu0mumede                         1121 non-null   object \n",
      " 17  eth0eth9gp                         1124 non-null   object \n",
      " 18  fbqageeduc                         300 non-null    object \n",
      " 19  fbqcountrybirth                    299 non-null    object \n",
      " 20  has_bib1kc                         175 non-null    object \n",
      " 21  imd_2010_decile_nat                1125 non-null   float64\n",
      " 22  mbqlcasep5gp                       1123 non-null   object \n",
      " 23  org0agemuk                         409 non-null    float64\n",
      " 24  org0mmubct                         1126 non-null   object \n",
      " 25  qad0langua                         1120 non-null   object \n",
      " 26  AgeMths                            354 non-null    float64\n",
      " 27  ddsdt                              354 non-null    float64\n",
      " 28  ddsmt                              354 non-null    float64\n",
      " 29  ddsft                              354 non-null    float64\n",
      " 30  ddsdmft                            354 non-null    float64\n",
      " 31  ddscareindex                       354 non-null    float64\n",
      " 32  res6mcage                          354 non-null    float64\n",
      " 33  res6mcbetterstart                  354 non-null    object \n",
      " 34  GATx                               1416 non-null   float64\n",
      " 35  Epi                                1416 non-null   float64\n",
      " 36  dgaGAType                          1088 non-null   object \n",
      " 37  dgaGATotal                         1088 non-null   float64\n",
      " 38  dgaGASequence                      1088 non-null   float64\n",
      " 39  dgaWeight                          915 non-null    float64\n",
      " 40  dgaUR6                             1087 non-null   object \n",
      " 41  dgaURE                             1087 non-null   object \n",
      " 42  dgaURD                             1085 non-null   object \n",
      " 43  dgaURC                             1088 non-null   object \n",
      " 44  dgaURB                             1088 non-null   object \n",
      " 45  dgaURA                             1085 non-null   object \n",
      " 46  dgaULA                             1086 non-null   object \n",
      " 47  dgaULB                             1087 non-null   object \n",
      " 48  dgaULC                             1088 non-null   object \n",
      " 49  dgaULD                             1086 non-null   object \n",
      " 50  dgaULE                             1088 non-null   object \n",
      " 51  dgaUL6                             1088 non-null   object \n",
      " 52  dgaLL6                             1088 non-null   object \n",
      " 53  dgaLLE                             1087 non-null   object \n",
      " 54  dgaLLD                             1086 non-null   object \n",
      " 55  dgaLLC                             1088 non-null   object \n",
      " 56  dgaLLB                             1088 non-null   object \n",
      " 57  dgaLLA                             1087 non-null   object \n",
      " 58  dgaLRA                             1087 non-null   object \n",
      " 59  dgaLRB                             1088 non-null   object \n",
      " 60  dgaLRC                             1088 non-null   object \n",
      " 61  dgaLRD                             1087 non-null   object \n",
      " 62  dgaLRE                             1086 non-null   object \n",
      " 63  dgaLR6                             1088 non-null   object \n",
      " 64  dgaUR4                             3 non-null      object \n",
      " 65  dgaUR1                             3 non-null      object \n",
      " 66  dgaUL1                             2 non-null      object \n",
      " 67  dgaUL4                             2 non-null      object \n",
      " 68  dgaLL5                             1 non-null      object \n",
      " 69  dgaLL4                             2 non-null      object \n",
      " 70  dgaLL1                             1 non-null      object \n",
      " 71  dgaLR1                             1 non-null      object \n",
      " 72  dgaLR4                             1 non-null      object \n",
      " 73  dgaLR5                             1 non-null      object \n",
      " 74  Totalnoextractions                 1088 non-null   float64\n",
      " 75  totalnumberofprimaryextractions    1088 non-null   float64\n",
      " 76  totalnumberofpermanentextractions  1088 non-null   float64\n",
      "dtypes: float64(21), int64(1), object(55)\n",
      "memory usage: 851.9+ KB\n"
     ]
    }
   ],
   "source": [
    "# read in merged data\n",
    "merge_data_path = os.path.join(data_dir, \"epi_ga_merge_data.csv\")\n",
    "merge_data = pd.read_csv(merge_data_path)\n",
    "merge_data.replace([\" \"], np.nan, inplace=True)\n",
    "\n",
    "# for some reason first two entries are blank\n",
    "merge_data = merge_data.iloc[2:]\n",
    "\n",
    "merge_data[\"ChildID\"] = merge_data.ChildID.astype(\"int\")\n",
    "\n",
    "type_keys_to_vals = {\n",
    "    1 : \"exodontia\",\n",
    "    2 : \"comprehensive_care\"\n",
    "}\n",
    "merge_data[\"dgaGAType\"] = merge_data.dgaGAType.astype(\"float\")\n",
    "merge_data[\"dgaGAType\"] = merge_data.dgaGAType.map(type_keys_to_vals)\n",
    "\n",
    "merge_data.info()"
   ],
   "metadata": {
    "collapsed": false,
    "pycharm": {
     "name": "#%%\n"
    }
   }
  },
  {
   "cell_type": "markdown",
   "source": [
    "## Age Features\n",
    "\n",
    "Lots of strangeness with age features: `AgeMths` and `res6mcage`\n",
    "\n",
    "`AgeMths` - no explicit description given. wrt GA data seems to be the age at the time of GA (from looking at the data). WRT Epi data, values are either 65 or 66 only - very odd given epi kids are a sample of 5 year olds so we would expect the ages to range from 60 to 71 months. In merged dataset all GA only entries are Nan! - looks like an error in merge.\n",
    "\n",
    "`res6mcage` - supposed to be \"age in months of child at Epi\". WRT Epi data, values are either 60 or 66 - this makes a bit more sense if granularity of measurement is 6 month or 1/2 year increments - so kids are either 5 or 5.5 y/o. WRT GA data, description makes no sense - all kids have an entry in this field despite only 20 or so appearing in the Epi samples. Entries are withing throwing distance of AgeMths but don't agree, even adjusting for 6month increments.\n",
    "\n",
    "For now - merge AgeMths from GA data and delete entries from Epi data - not much info in there anyways:"
   ],
   "metadata": {
    "collapsed": false,
    "pycharm": {
     "name": "#%% md\n"
    }
   }
  },
  {
   "cell_type": "code",
   "execution_count": 5,
   "outputs": [],
   "source": [
    "# merge AgeMths col from GA data into merged data\n",
    "merge_data.drop(\"AgeMths\", axis=1, inplace=True)\n",
    "key_cols = [\"ChildID\", \"dgaGASequence\"]\n",
    "merge_data = merge_data.merge(ga_data[key_cols + [\"AgeMths\"]],\n",
    "                              how=\"left\",\n",
    "                              on=key_cols)"
   ],
   "metadata": {
    "collapsed": false,
    "pycharm": {
     "name": "#%%\n"
    }
   }
  },
  {
   "cell_type": "markdown",
   "source": [
    "## duplicate entries\n",
    "\n",
    "there are equvalent duplicated entries for individual children in GA data and merged data:\n"
   ],
   "metadata": {
    "collapsed": false
   }
  },
  {
   "cell_type": "code",
   "execution_count": 6,
   "outputs": [
    {
     "name": "stdout",
     "output_type": "stream",
     "text": [
      "GA Entries:\n"
     ]
    },
    {
     "data": {
      "text/plain": "   ChildID  AgeMths PregnancyID  MotherID  FatherID           dgaGAType  \\\n0    12465       57     10328P1       310       NaN  comprehensive_care   \n2    12465       57     10328P1       310       NaN  comprehensive_care   \n1    12465       97     10328P1       310       NaN  comprehensive_care   \n\n   dgaGATotal  dgaGASequence  dgaWeight         dgaUR6         dgaURE  \\\n0           3              1        NaN  Nil treatment      Extracted   \n2           3              2        NaN  Nil treatment      Extracted   \n1           3              3       39.0      Extracted  Nil treatment   \n\n          dgaURD         dgaURC         dgaURB         dgaURA         dgaULA  \\\n0      Extracted  Nil treatment  Nil treatment  Nil treatment  Nil treatment   \n2      Extracted  Nil treatment  Nil treatment  Nil treatment  Nil treatment   \n1  Nil treatment  Nil treatment  Nil treatment  Nil treatment  Nil treatment   \n\n          dgaULB         dgaULC         dgaULD         dgaULE         dgaUL6  \\\n0  Nil treatment  Nil treatment      Extracted      Extracted  Nil treatment   \n2  Nil treatment  Nil treatment      Extracted      Extracted  Nil treatment   \n1  Nil treatment  Nil treatment  Nil treatment  Nil treatment      Extracted   \n\n          dgaLL6         dgaLLE         dgaLLD         dgaLLC         dgaLLB  \\\n0  Nil treatment      Extracted      Extracted  Nil treatment  Nil treatment   \n2  Nil treatment      Extracted      Extracted  Nil treatment  Nil treatment   \n1      Extracted  Nil treatment  Nil treatment  Nil treatment  Nil treatment   \n\n          dgaLLA         dgaLRA         dgaLRB         dgaLRC         dgaLRD  \\\n0  Nil treatment  Nil treatment  Nil treatment  Nil treatment      Extracted   \n2  Nil treatment  Nil treatment  Nil treatment  Nil treatment      Extracted   \n1  Nil treatment  Nil treatment  Nil treatment  Nil treatment  Nil treatment   \n\n          dgaLRE         dgaLR6 dgaUR4 dgaUR1 dgaUL1 dgaUL4 dgaLL5 dgaLL4  \\\n0      Extracted  Nil treatment    NaN    NaN    NaN    NaN    NaN    NaN   \n2      Extracted  Nil treatment    NaN    NaN    NaN    NaN    NaN    NaN   \n1  Nil treatment      Extracted    NaN    NaN    NaN    NaN    NaN    NaN   \n\n  dgaLL1 dgaLR1 dgaLR4 dgaLR5  res6mcage res6mcbetterstart  \n0    NaN    NaN    NaN    NaN         24               Yes  \n2    NaN    NaN    NaN    NaN         24               Yes  \n1    NaN    NaN    NaN    NaN         96               Yes  ",
      "text/html": "<div>\n<style scoped>\n    .dataframe tbody tr th:only-of-type {\n        vertical-align: middle;\n    }\n\n    .dataframe tbody tr th {\n        vertical-align: top;\n    }\n\n    .dataframe thead th {\n        text-align: right;\n    }\n</style>\n<table border=\"1\" class=\"dataframe\">\n  <thead>\n    <tr style=\"text-align: right;\">\n      <th></th>\n      <th>ChildID</th>\n      <th>AgeMths</th>\n      <th>PregnancyID</th>\n      <th>MotherID</th>\n      <th>FatherID</th>\n      <th>dgaGAType</th>\n      <th>dgaGATotal</th>\n      <th>dgaGASequence</th>\n      <th>dgaWeight</th>\n      <th>dgaUR6</th>\n      <th>dgaURE</th>\n      <th>dgaURD</th>\n      <th>dgaURC</th>\n      <th>dgaURB</th>\n      <th>dgaURA</th>\n      <th>dgaULA</th>\n      <th>dgaULB</th>\n      <th>dgaULC</th>\n      <th>dgaULD</th>\n      <th>dgaULE</th>\n      <th>dgaUL6</th>\n      <th>dgaLL6</th>\n      <th>dgaLLE</th>\n      <th>dgaLLD</th>\n      <th>dgaLLC</th>\n      <th>dgaLLB</th>\n      <th>dgaLLA</th>\n      <th>dgaLRA</th>\n      <th>dgaLRB</th>\n      <th>dgaLRC</th>\n      <th>dgaLRD</th>\n      <th>dgaLRE</th>\n      <th>dgaLR6</th>\n      <th>dgaUR4</th>\n      <th>dgaUR1</th>\n      <th>dgaUL1</th>\n      <th>dgaUL4</th>\n      <th>dgaLL5</th>\n      <th>dgaLL4</th>\n      <th>dgaLL1</th>\n      <th>dgaLR1</th>\n      <th>dgaLR4</th>\n      <th>dgaLR5</th>\n      <th>res6mcage</th>\n      <th>res6mcbetterstart</th>\n    </tr>\n  </thead>\n  <tbody>\n    <tr>\n      <th>0</th>\n      <td>12465</td>\n      <td>57</td>\n      <td>10328P1</td>\n      <td>310</td>\n      <td>NaN</td>\n      <td>comprehensive_care</td>\n      <td>3</td>\n      <td>1</td>\n      <td>NaN</td>\n      <td>Nil treatment</td>\n      <td>Extracted</td>\n      <td>Extracted</td>\n      <td>Nil treatment</td>\n      <td>Nil treatment</td>\n      <td>Nil treatment</td>\n      <td>Nil treatment</td>\n      <td>Nil treatment</td>\n      <td>Nil treatment</td>\n      <td>Extracted</td>\n      <td>Extracted</td>\n      <td>Nil treatment</td>\n      <td>Nil treatment</td>\n      <td>Extracted</td>\n      <td>Extracted</td>\n      <td>Nil treatment</td>\n      <td>Nil treatment</td>\n      <td>Nil treatment</td>\n      <td>Nil treatment</td>\n      <td>Nil treatment</td>\n      <td>Nil treatment</td>\n      <td>Extracted</td>\n      <td>Extracted</td>\n      <td>Nil treatment</td>\n      <td>NaN</td>\n      <td>NaN</td>\n      <td>NaN</td>\n      <td>NaN</td>\n      <td>NaN</td>\n      <td>NaN</td>\n      <td>NaN</td>\n      <td>NaN</td>\n      <td>NaN</td>\n      <td>NaN</td>\n      <td>24</td>\n      <td>Yes</td>\n    </tr>\n    <tr>\n      <th>2</th>\n      <td>12465</td>\n      <td>57</td>\n      <td>10328P1</td>\n      <td>310</td>\n      <td>NaN</td>\n      <td>comprehensive_care</td>\n      <td>3</td>\n      <td>2</td>\n      <td>NaN</td>\n      <td>Nil treatment</td>\n      <td>Extracted</td>\n      <td>Extracted</td>\n      <td>Nil treatment</td>\n      <td>Nil treatment</td>\n      <td>Nil treatment</td>\n      <td>Nil treatment</td>\n      <td>Nil treatment</td>\n      <td>Nil treatment</td>\n      <td>Extracted</td>\n      <td>Extracted</td>\n      <td>Nil treatment</td>\n      <td>Nil treatment</td>\n      <td>Extracted</td>\n      <td>Extracted</td>\n      <td>Nil treatment</td>\n      <td>Nil treatment</td>\n      <td>Nil treatment</td>\n      <td>Nil treatment</td>\n      <td>Nil treatment</td>\n      <td>Nil treatment</td>\n      <td>Extracted</td>\n      <td>Extracted</td>\n      <td>Nil treatment</td>\n      <td>NaN</td>\n      <td>NaN</td>\n      <td>NaN</td>\n      <td>NaN</td>\n      <td>NaN</td>\n      <td>NaN</td>\n      <td>NaN</td>\n      <td>NaN</td>\n      <td>NaN</td>\n      <td>NaN</td>\n      <td>24</td>\n      <td>Yes</td>\n    </tr>\n    <tr>\n      <th>1</th>\n      <td>12465</td>\n      <td>97</td>\n      <td>10328P1</td>\n      <td>310</td>\n      <td>NaN</td>\n      <td>comprehensive_care</td>\n      <td>3</td>\n      <td>3</td>\n      <td>39.0</td>\n      <td>Extracted</td>\n      <td>Nil treatment</td>\n      <td>Nil treatment</td>\n      <td>Nil treatment</td>\n      <td>Nil treatment</td>\n      <td>Nil treatment</td>\n      <td>Nil treatment</td>\n      <td>Nil treatment</td>\n      <td>Nil treatment</td>\n      <td>Nil treatment</td>\n      <td>Nil treatment</td>\n      <td>Extracted</td>\n      <td>Extracted</td>\n      <td>Nil treatment</td>\n      <td>Nil treatment</td>\n      <td>Nil treatment</td>\n      <td>Nil treatment</td>\n      <td>Nil treatment</td>\n      <td>Nil treatment</td>\n      <td>Nil treatment</td>\n      <td>Nil treatment</td>\n      <td>Nil treatment</td>\n      <td>Nil treatment</td>\n      <td>Extracted</td>\n      <td>NaN</td>\n      <td>NaN</td>\n      <td>NaN</td>\n      <td>NaN</td>\n      <td>NaN</td>\n      <td>NaN</td>\n      <td>NaN</td>\n      <td>NaN</td>\n      <td>NaN</td>\n      <td>NaN</td>\n      <td>96</td>\n      <td>Yes</td>\n    </tr>\n  </tbody>\n</table>\n</div>"
     },
     "metadata": {},
     "output_type": "display_data"
    },
    {
     "name": "stdout",
     "output_type": "stream",
     "text": [
      "Merged Entries:\n"
     ]
    },
    {
     "data": {
      "text/plain": "      ChildID  AgeMths PregnancyID  MotherID  FatherID           dgaGAType  \\\n1065    12465     57.0     10328P1     310.0       NaN  comprehensive_care   \n1076    12465     57.0         NaN       NaN       NaN  comprehensive_care   \n1082    12465     97.0         NaN       NaN       NaN  comprehensive_care   \n\n      dgaGATotal  dgaGASequence  dgaWeight         dgaUR6         dgaURE  \\\n1065         3.0            1.0        NaN  Nil treatment      Extracted   \n1076         3.0            2.0        NaN  Nil treatment      Extracted   \n1082         3.0            3.0       39.0      Extracted  Nil treatment   \n\n             dgaURD         dgaURC         dgaURB         dgaURA  \\\n1065      Extracted  Nil treatment  Nil treatment  Nil treatment   \n1076      Extracted  Nil treatment  Nil treatment  Nil treatment   \n1082  Nil treatment  Nil treatment  Nil treatment  Nil treatment   \n\n             dgaULA         dgaULB         dgaULC         dgaULD  \\\n1065  Nil treatment  Nil treatment  Nil treatment      Extracted   \n1076  Nil treatment  Nil treatment  Nil treatment      Extracted   \n1082  Nil treatment  Nil treatment  Nil treatment  Nil treatment   \n\n             dgaULE         dgaUL6         dgaLL6         dgaLLE  \\\n1065      Extracted  Nil treatment  Nil treatment      Extracted   \n1076      Extracted  Nil treatment  Nil treatment      Extracted   \n1082  Nil treatment      Extracted      Extracted  Nil treatment   \n\n             dgaLLD         dgaLLC         dgaLLB         dgaLLA  \\\n1065      Extracted  Nil treatment  Nil treatment  Nil treatment   \n1076      Extracted  Nil treatment  Nil treatment  Nil treatment   \n1082  Nil treatment  Nil treatment  Nil treatment  Nil treatment   \n\n             dgaLRA         dgaLRB         dgaLRC         dgaLRD  \\\n1065  Nil treatment  Nil treatment  Nil treatment      Extracted   \n1076  Nil treatment  Nil treatment  Nil treatment      Extracted   \n1082  Nil treatment  Nil treatment  Nil treatment  Nil treatment   \n\n             dgaLRE         dgaLR6 dgaUR4 dgaUR1 dgaUL1 dgaUL4 dgaLL5 dgaLL4  \\\n1065      Extracted  Nil treatment    NaN    NaN    NaN    NaN    NaN    NaN   \n1076      Extracted  Nil treatment    NaN    NaN    NaN    NaN    NaN    NaN   \n1082  Nil treatment      Extracted    NaN    NaN    NaN    NaN    NaN    NaN   \n\n     dgaLL1 dgaLR1 dgaLR4 dgaLR5  res6mcage res6mcbetterstart  \n1065    NaN    NaN    NaN    NaN        NaN               NaN  \n1076    NaN    NaN    NaN    NaN        NaN               NaN  \n1082    NaN    NaN    NaN    NaN        NaN               NaN  ",
      "text/html": "<div>\n<style scoped>\n    .dataframe tbody tr th:only-of-type {\n        vertical-align: middle;\n    }\n\n    .dataframe tbody tr th {\n        vertical-align: top;\n    }\n\n    .dataframe thead th {\n        text-align: right;\n    }\n</style>\n<table border=\"1\" class=\"dataframe\">\n  <thead>\n    <tr style=\"text-align: right;\">\n      <th></th>\n      <th>ChildID</th>\n      <th>AgeMths</th>\n      <th>PregnancyID</th>\n      <th>MotherID</th>\n      <th>FatherID</th>\n      <th>dgaGAType</th>\n      <th>dgaGATotal</th>\n      <th>dgaGASequence</th>\n      <th>dgaWeight</th>\n      <th>dgaUR6</th>\n      <th>dgaURE</th>\n      <th>dgaURD</th>\n      <th>dgaURC</th>\n      <th>dgaURB</th>\n      <th>dgaURA</th>\n      <th>dgaULA</th>\n      <th>dgaULB</th>\n      <th>dgaULC</th>\n      <th>dgaULD</th>\n      <th>dgaULE</th>\n      <th>dgaUL6</th>\n      <th>dgaLL6</th>\n      <th>dgaLLE</th>\n      <th>dgaLLD</th>\n      <th>dgaLLC</th>\n      <th>dgaLLB</th>\n      <th>dgaLLA</th>\n      <th>dgaLRA</th>\n      <th>dgaLRB</th>\n      <th>dgaLRC</th>\n      <th>dgaLRD</th>\n      <th>dgaLRE</th>\n      <th>dgaLR6</th>\n      <th>dgaUR4</th>\n      <th>dgaUR1</th>\n      <th>dgaUL1</th>\n      <th>dgaUL4</th>\n      <th>dgaLL5</th>\n      <th>dgaLL4</th>\n      <th>dgaLL1</th>\n      <th>dgaLR1</th>\n      <th>dgaLR4</th>\n      <th>dgaLR5</th>\n      <th>res6mcage</th>\n      <th>res6mcbetterstart</th>\n    </tr>\n  </thead>\n  <tbody>\n    <tr>\n      <th>1065</th>\n      <td>12465</td>\n      <td>57.0</td>\n      <td>10328P1</td>\n      <td>310.0</td>\n      <td>NaN</td>\n      <td>comprehensive_care</td>\n      <td>3.0</td>\n      <td>1.0</td>\n      <td>NaN</td>\n      <td>Nil treatment</td>\n      <td>Extracted</td>\n      <td>Extracted</td>\n      <td>Nil treatment</td>\n      <td>Nil treatment</td>\n      <td>Nil treatment</td>\n      <td>Nil treatment</td>\n      <td>Nil treatment</td>\n      <td>Nil treatment</td>\n      <td>Extracted</td>\n      <td>Extracted</td>\n      <td>Nil treatment</td>\n      <td>Nil treatment</td>\n      <td>Extracted</td>\n      <td>Extracted</td>\n      <td>Nil treatment</td>\n      <td>Nil treatment</td>\n      <td>Nil treatment</td>\n      <td>Nil treatment</td>\n      <td>Nil treatment</td>\n      <td>Nil treatment</td>\n      <td>Extracted</td>\n      <td>Extracted</td>\n      <td>Nil treatment</td>\n      <td>NaN</td>\n      <td>NaN</td>\n      <td>NaN</td>\n      <td>NaN</td>\n      <td>NaN</td>\n      <td>NaN</td>\n      <td>NaN</td>\n      <td>NaN</td>\n      <td>NaN</td>\n      <td>NaN</td>\n      <td>NaN</td>\n      <td>NaN</td>\n    </tr>\n    <tr>\n      <th>1076</th>\n      <td>12465</td>\n      <td>57.0</td>\n      <td>NaN</td>\n      <td>NaN</td>\n      <td>NaN</td>\n      <td>comprehensive_care</td>\n      <td>3.0</td>\n      <td>2.0</td>\n      <td>NaN</td>\n      <td>Nil treatment</td>\n      <td>Extracted</td>\n      <td>Extracted</td>\n      <td>Nil treatment</td>\n      <td>Nil treatment</td>\n      <td>Nil treatment</td>\n      <td>Nil treatment</td>\n      <td>Nil treatment</td>\n      <td>Nil treatment</td>\n      <td>Extracted</td>\n      <td>Extracted</td>\n      <td>Nil treatment</td>\n      <td>Nil treatment</td>\n      <td>Extracted</td>\n      <td>Extracted</td>\n      <td>Nil treatment</td>\n      <td>Nil treatment</td>\n      <td>Nil treatment</td>\n      <td>Nil treatment</td>\n      <td>Nil treatment</td>\n      <td>Nil treatment</td>\n      <td>Extracted</td>\n      <td>Extracted</td>\n      <td>Nil treatment</td>\n      <td>NaN</td>\n      <td>NaN</td>\n      <td>NaN</td>\n      <td>NaN</td>\n      <td>NaN</td>\n      <td>NaN</td>\n      <td>NaN</td>\n      <td>NaN</td>\n      <td>NaN</td>\n      <td>NaN</td>\n      <td>NaN</td>\n      <td>NaN</td>\n    </tr>\n    <tr>\n      <th>1082</th>\n      <td>12465</td>\n      <td>97.0</td>\n      <td>NaN</td>\n      <td>NaN</td>\n      <td>NaN</td>\n      <td>comprehensive_care</td>\n      <td>3.0</td>\n      <td>3.0</td>\n      <td>39.0</td>\n      <td>Extracted</td>\n      <td>Nil treatment</td>\n      <td>Nil treatment</td>\n      <td>Nil treatment</td>\n      <td>Nil treatment</td>\n      <td>Nil treatment</td>\n      <td>Nil treatment</td>\n      <td>Nil treatment</td>\n      <td>Nil treatment</td>\n      <td>Nil treatment</td>\n      <td>Nil treatment</td>\n      <td>Extracted</td>\n      <td>Extracted</td>\n      <td>Nil treatment</td>\n      <td>Nil treatment</td>\n      <td>Nil treatment</td>\n      <td>Nil treatment</td>\n      <td>Nil treatment</td>\n      <td>Nil treatment</td>\n      <td>Nil treatment</td>\n      <td>Nil treatment</td>\n      <td>Nil treatment</td>\n      <td>Nil treatment</td>\n      <td>Extracted</td>\n      <td>NaN</td>\n      <td>NaN</td>\n      <td>NaN</td>\n      <td>NaN</td>\n      <td>NaN</td>\n      <td>NaN</td>\n      <td>NaN</td>\n      <td>NaN</td>\n      <td>NaN</td>\n      <td>NaN</td>\n      <td>NaN</td>\n      <td>NaN</td>\n    </tr>\n  </tbody>\n</table>\n</div>"
     },
     "metadata": {},
     "output_type": "display_data"
    },
    {
     "name": "stdout",
     "output_type": "stream",
     "text": [
      "GA Entries:\n"
     ]
    },
    {
     "data": {
      "text/plain": "    ChildID  AgeMths PregnancyID  MotherID  FatherID           dgaGAType  \\\n61    13149       66     11464P1      1431       NaN  comprehensive_care   \n63    13149       66     11464P1      1431       NaN  comprehensive_care   \n62    13149       97     11464P1      1431       NaN  comprehensive_care   \n\n    dgaGATotal  dgaGASequence  dgaWeight         dgaUR6         dgaURE  \\\n61           3              1        NaN  Nil treatment      Extracted   \n63           3              2        NaN  Nil treatment      Extracted   \n62           3              3        NaN         Filled  Nil treatment   \n\n           dgaURD         dgaURC         dgaURB         dgaURA         dgaULA  \\\n61      Extracted      Extracted      Extracted      Extracted      Extracted   \n63      Extracted      Extracted      Extracted      Extracted      Extracted   \n62  Nil treatment  Nil treatment  Nil treatment  Nil treatment  Nil treatment   \n\n           dgaULB         dgaULC         dgaULD         dgaULE     dgaUL6  \\\n61      Extracted      Extracted      Extracted      Extracted     Sealed   \n63      Extracted      Extracted      Extracted      Extracted     Sealed   \n62  Nil treatment  Nil treatment  Nil treatment  Nil treatment  Extracted   \n\n       dgaLL6         dgaLLE         dgaLLD         dgaLLC         dgaLLB  \\\n61     Sealed      Extracted      Extracted  Nil treatment  Nil treatment   \n63     Sealed      Extracted      Extracted  Nil treatment  Nil treatment   \n62  Extracted  Nil treatment  Nil treatment  Nil treatment  Nil treatment   \n\n           dgaLLA         dgaLRA         dgaLRB         dgaLRC         dgaLRD  \\\n61  Nil treatment  Nil treatment  Nil treatment  Nil treatment      Extracted   \n63  Nil treatment  Nil treatment  Nil treatment  Nil treatment      Extracted   \n62  Nil treatment  Nil treatment  Nil treatment  Nil treatment  Nil treatment   \n\n           dgaLRE  dgaLR6 dgaUR4 dgaUR1 dgaUL1 dgaUL4 dgaLL5 dgaLL4 dgaLL1  \\\n61      Extracted  Sealed    NaN    NaN    NaN    NaN    NaN    NaN    NaN   \n63      Extracted  Sealed    NaN    NaN    NaN    NaN    NaN    NaN    NaN   \n62  Nil treatment  Filled    NaN    NaN    NaN    NaN    NaN    NaN    NaN   \n\n   dgaLR1 dgaLR4 dgaLR5  res6mcage res6mcbetterstart  \n61    NaN    NaN    NaN         66                No  \n63    NaN    NaN    NaN         66                No  \n62    NaN    NaN    NaN         96                No  ",
      "text/html": "<div>\n<style scoped>\n    .dataframe tbody tr th:only-of-type {\n        vertical-align: middle;\n    }\n\n    .dataframe tbody tr th {\n        vertical-align: top;\n    }\n\n    .dataframe thead th {\n        text-align: right;\n    }\n</style>\n<table border=\"1\" class=\"dataframe\">\n  <thead>\n    <tr style=\"text-align: right;\">\n      <th></th>\n      <th>ChildID</th>\n      <th>AgeMths</th>\n      <th>PregnancyID</th>\n      <th>MotherID</th>\n      <th>FatherID</th>\n      <th>dgaGAType</th>\n      <th>dgaGATotal</th>\n      <th>dgaGASequence</th>\n      <th>dgaWeight</th>\n      <th>dgaUR6</th>\n      <th>dgaURE</th>\n      <th>dgaURD</th>\n      <th>dgaURC</th>\n      <th>dgaURB</th>\n      <th>dgaURA</th>\n      <th>dgaULA</th>\n      <th>dgaULB</th>\n      <th>dgaULC</th>\n      <th>dgaULD</th>\n      <th>dgaULE</th>\n      <th>dgaUL6</th>\n      <th>dgaLL6</th>\n      <th>dgaLLE</th>\n      <th>dgaLLD</th>\n      <th>dgaLLC</th>\n      <th>dgaLLB</th>\n      <th>dgaLLA</th>\n      <th>dgaLRA</th>\n      <th>dgaLRB</th>\n      <th>dgaLRC</th>\n      <th>dgaLRD</th>\n      <th>dgaLRE</th>\n      <th>dgaLR6</th>\n      <th>dgaUR4</th>\n      <th>dgaUR1</th>\n      <th>dgaUL1</th>\n      <th>dgaUL4</th>\n      <th>dgaLL5</th>\n      <th>dgaLL4</th>\n      <th>dgaLL1</th>\n      <th>dgaLR1</th>\n      <th>dgaLR4</th>\n      <th>dgaLR5</th>\n      <th>res6mcage</th>\n      <th>res6mcbetterstart</th>\n    </tr>\n  </thead>\n  <tbody>\n    <tr>\n      <th>61</th>\n      <td>13149</td>\n      <td>66</td>\n      <td>11464P1</td>\n      <td>1431</td>\n      <td>NaN</td>\n      <td>comprehensive_care</td>\n      <td>3</td>\n      <td>1</td>\n      <td>NaN</td>\n      <td>Nil treatment</td>\n      <td>Extracted</td>\n      <td>Extracted</td>\n      <td>Extracted</td>\n      <td>Extracted</td>\n      <td>Extracted</td>\n      <td>Extracted</td>\n      <td>Extracted</td>\n      <td>Extracted</td>\n      <td>Extracted</td>\n      <td>Extracted</td>\n      <td>Sealed</td>\n      <td>Sealed</td>\n      <td>Extracted</td>\n      <td>Extracted</td>\n      <td>Nil treatment</td>\n      <td>Nil treatment</td>\n      <td>Nil treatment</td>\n      <td>Nil treatment</td>\n      <td>Nil treatment</td>\n      <td>Nil treatment</td>\n      <td>Extracted</td>\n      <td>Extracted</td>\n      <td>Sealed</td>\n      <td>NaN</td>\n      <td>NaN</td>\n      <td>NaN</td>\n      <td>NaN</td>\n      <td>NaN</td>\n      <td>NaN</td>\n      <td>NaN</td>\n      <td>NaN</td>\n      <td>NaN</td>\n      <td>NaN</td>\n      <td>66</td>\n      <td>No</td>\n    </tr>\n    <tr>\n      <th>63</th>\n      <td>13149</td>\n      <td>66</td>\n      <td>11464P1</td>\n      <td>1431</td>\n      <td>NaN</td>\n      <td>comprehensive_care</td>\n      <td>3</td>\n      <td>2</td>\n      <td>NaN</td>\n      <td>Nil treatment</td>\n      <td>Extracted</td>\n      <td>Extracted</td>\n      <td>Extracted</td>\n      <td>Extracted</td>\n      <td>Extracted</td>\n      <td>Extracted</td>\n      <td>Extracted</td>\n      <td>Extracted</td>\n      <td>Extracted</td>\n      <td>Extracted</td>\n      <td>Sealed</td>\n      <td>Sealed</td>\n      <td>Extracted</td>\n      <td>Extracted</td>\n      <td>Nil treatment</td>\n      <td>Nil treatment</td>\n      <td>Nil treatment</td>\n      <td>Nil treatment</td>\n      <td>Nil treatment</td>\n      <td>Nil treatment</td>\n      <td>Extracted</td>\n      <td>Extracted</td>\n      <td>Sealed</td>\n      <td>NaN</td>\n      <td>NaN</td>\n      <td>NaN</td>\n      <td>NaN</td>\n      <td>NaN</td>\n      <td>NaN</td>\n      <td>NaN</td>\n      <td>NaN</td>\n      <td>NaN</td>\n      <td>NaN</td>\n      <td>66</td>\n      <td>No</td>\n    </tr>\n    <tr>\n      <th>62</th>\n      <td>13149</td>\n      <td>97</td>\n      <td>11464P1</td>\n      <td>1431</td>\n      <td>NaN</td>\n      <td>comprehensive_care</td>\n      <td>3</td>\n      <td>3</td>\n      <td>NaN</td>\n      <td>Filled</td>\n      <td>Nil treatment</td>\n      <td>Nil treatment</td>\n      <td>Nil treatment</td>\n      <td>Nil treatment</td>\n      <td>Nil treatment</td>\n      <td>Nil treatment</td>\n      <td>Nil treatment</td>\n      <td>Nil treatment</td>\n      <td>Nil treatment</td>\n      <td>Nil treatment</td>\n      <td>Extracted</td>\n      <td>Extracted</td>\n      <td>Nil treatment</td>\n      <td>Nil treatment</td>\n      <td>Nil treatment</td>\n      <td>Nil treatment</td>\n      <td>Nil treatment</td>\n      <td>Nil treatment</td>\n      <td>Nil treatment</td>\n      <td>Nil treatment</td>\n      <td>Nil treatment</td>\n      <td>Nil treatment</td>\n      <td>Filled</td>\n      <td>NaN</td>\n      <td>NaN</td>\n      <td>NaN</td>\n      <td>NaN</td>\n      <td>NaN</td>\n      <td>NaN</td>\n      <td>NaN</td>\n      <td>NaN</td>\n      <td>NaN</td>\n      <td>NaN</td>\n      <td>96</td>\n      <td>No</td>\n    </tr>\n  </tbody>\n</table>\n</div>"
     },
     "metadata": {},
     "output_type": "display_data"
    },
    {
     "name": "stdout",
     "output_type": "stream",
     "text": [
      "Merged Entries:\n"
     ]
    },
    {
     "data": {
      "text/plain": "      ChildID  AgeMths PregnancyID  MotherID  FatherID           dgaGAType  \\\n1066    13149     66.0     11464P1    1431.0       NaN  comprehensive_care   \n1077    13149     66.0         NaN       NaN       NaN  comprehensive_care   \n1083    13149     97.0         NaN       NaN       NaN  comprehensive_care   \n\n      dgaGATotal  dgaGASequence  dgaWeight         dgaUR6         dgaURE  \\\n1066         3.0            1.0        NaN  Nil treatment      Extracted   \n1077         3.0            2.0        NaN  Nil treatment      Extracted   \n1083         3.0            3.0        NaN         Filled  Nil treatment   \n\n             dgaURD         dgaURC         dgaURB         dgaURA  \\\n1066      Extracted      Extracted      Extracted      Extracted   \n1077      Extracted      Extracted      Extracted      Extracted   \n1083  Nil treatment  Nil treatment  Nil treatment  Nil treatment   \n\n             dgaULA         dgaULB         dgaULC         dgaULD  \\\n1066      Extracted      Extracted      Extracted      Extracted   \n1077      Extracted      Extracted      Extracted      Extracted   \n1083  Nil treatment  Nil treatment  Nil treatment  Nil treatment   \n\n             dgaULE     dgaUL6     dgaLL6         dgaLLE         dgaLLD  \\\n1066      Extracted     Sealed     Sealed      Extracted      Extracted   \n1077      Extracted     Sealed     Sealed      Extracted      Extracted   \n1083  Nil treatment  Extracted  Extracted  Nil treatment  Nil treatment   \n\n             dgaLLC         dgaLLB         dgaLLA         dgaLRA  \\\n1066  Nil treatment  Nil treatment  Nil treatment  Nil treatment   \n1077  Nil treatment  Nil treatment  Nil treatment  Nil treatment   \n1083  Nil treatment  Nil treatment  Nil treatment  Nil treatment   \n\n             dgaLRB         dgaLRC         dgaLRD         dgaLRE  dgaLR6  \\\n1066  Nil treatment  Nil treatment      Extracted      Extracted  Sealed   \n1077  Nil treatment  Nil treatment      Extracted      Extracted  Sealed   \n1083  Nil treatment  Nil treatment  Nil treatment  Nil treatment  Filled   \n\n     dgaUR4 dgaUR1 dgaUL1 dgaUL4 dgaLL5 dgaLL4 dgaLL1 dgaLR1 dgaLR4 dgaLR5  \\\n1066    NaN    NaN    NaN    NaN    NaN    NaN    NaN    NaN    NaN    NaN   \n1077    NaN    NaN    NaN    NaN    NaN    NaN    NaN    NaN    NaN    NaN   \n1083    NaN    NaN    NaN    NaN    NaN    NaN    NaN    NaN    NaN    NaN   \n\n      res6mcage res6mcbetterstart  \n1066        NaN               NaN  \n1077        NaN               NaN  \n1083        NaN               NaN  ",
      "text/html": "<div>\n<style scoped>\n    .dataframe tbody tr th:only-of-type {\n        vertical-align: middle;\n    }\n\n    .dataframe tbody tr th {\n        vertical-align: top;\n    }\n\n    .dataframe thead th {\n        text-align: right;\n    }\n</style>\n<table border=\"1\" class=\"dataframe\">\n  <thead>\n    <tr style=\"text-align: right;\">\n      <th></th>\n      <th>ChildID</th>\n      <th>AgeMths</th>\n      <th>PregnancyID</th>\n      <th>MotherID</th>\n      <th>FatherID</th>\n      <th>dgaGAType</th>\n      <th>dgaGATotal</th>\n      <th>dgaGASequence</th>\n      <th>dgaWeight</th>\n      <th>dgaUR6</th>\n      <th>dgaURE</th>\n      <th>dgaURD</th>\n      <th>dgaURC</th>\n      <th>dgaURB</th>\n      <th>dgaURA</th>\n      <th>dgaULA</th>\n      <th>dgaULB</th>\n      <th>dgaULC</th>\n      <th>dgaULD</th>\n      <th>dgaULE</th>\n      <th>dgaUL6</th>\n      <th>dgaLL6</th>\n      <th>dgaLLE</th>\n      <th>dgaLLD</th>\n      <th>dgaLLC</th>\n      <th>dgaLLB</th>\n      <th>dgaLLA</th>\n      <th>dgaLRA</th>\n      <th>dgaLRB</th>\n      <th>dgaLRC</th>\n      <th>dgaLRD</th>\n      <th>dgaLRE</th>\n      <th>dgaLR6</th>\n      <th>dgaUR4</th>\n      <th>dgaUR1</th>\n      <th>dgaUL1</th>\n      <th>dgaUL4</th>\n      <th>dgaLL5</th>\n      <th>dgaLL4</th>\n      <th>dgaLL1</th>\n      <th>dgaLR1</th>\n      <th>dgaLR4</th>\n      <th>dgaLR5</th>\n      <th>res6mcage</th>\n      <th>res6mcbetterstart</th>\n    </tr>\n  </thead>\n  <tbody>\n    <tr>\n      <th>1066</th>\n      <td>13149</td>\n      <td>66.0</td>\n      <td>11464P1</td>\n      <td>1431.0</td>\n      <td>NaN</td>\n      <td>comprehensive_care</td>\n      <td>3.0</td>\n      <td>1.0</td>\n      <td>NaN</td>\n      <td>Nil treatment</td>\n      <td>Extracted</td>\n      <td>Extracted</td>\n      <td>Extracted</td>\n      <td>Extracted</td>\n      <td>Extracted</td>\n      <td>Extracted</td>\n      <td>Extracted</td>\n      <td>Extracted</td>\n      <td>Extracted</td>\n      <td>Extracted</td>\n      <td>Sealed</td>\n      <td>Sealed</td>\n      <td>Extracted</td>\n      <td>Extracted</td>\n      <td>Nil treatment</td>\n      <td>Nil treatment</td>\n      <td>Nil treatment</td>\n      <td>Nil treatment</td>\n      <td>Nil treatment</td>\n      <td>Nil treatment</td>\n      <td>Extracted</td>\n      <td>Extracted</td>\n      <td>Sealed</td>\n      <td>NaN</td>\n      <td>NaN</td>\n      <td>NaN</td>\n      <td>NaN</td>\n      <td>NaN</td>\n      <td>NaN</td>\n      <td>NaN</td>\n      <td>NaN</td>\n      <td>NaN</td>\n      <td>NaN</td>\n      <td>NaN</td>\n      <td>NaN</td>\n    </tr>\n    <tr>\n      <th>1077</th>\n      <td>13149</td>\n      <td>66.0</td>\n      <td>NaN</td>\n      <td>NaN</td>\n      <td>NaN</td>\n      <td>comprehensive_care</td>\n      <td>3.0</td>\n      <td>2.0</td>\n      <td>NaN</td>\n      <td>Nil treatment</td>\n      <td>Extracted</td>\n      <td>Extracted</td>\n      <td>Extracted</td>\n      <td>Extracted</td>\n      <td>Extracted</td>\n      <td>Extracted</td>\n      <td>Extracted</td>\n      <td>Extracted</td>\n      <td>Extracted</td>\n      <td>Extracted</td>\n      <td>Sealed</td>\n      <td>Sealed</td>\n      <td>Extracted</td>\n      <td>Extracted</td>\n      <td>Nil treatment</td>\n      <td>Nil treatment</td>\n      <td>Nil treatment</td>\n      <td>Nil treatment</td>\n      <td>Nil treatment</td>\n      <td>Nil treatment</td>\n      <td>Extracted</td>\n      <td>Extracted</td>\n      <td>Sealed</td>\n      <td>NaN</td>\n      <td>NaN</td>\n      <td>NaN</td>\n      <td>NaN</td>\n      <td>NaN</td>\n      <td>NaN</td>\n      <td>NaN</td>\n      <td>NaN</td>\n      <td>NaN</td>\n      <td>NaN</td>\n      <td>NaN</td>\n      <td>NaN</td>\n    </tr>\n    <tr>\n      <th>1083</th>\n      <td>13149</td>\n      <td>97.0</td>\n      <td>NaN</td>\n      <td>NaN</td>\n      <td>NaN</td>\n      <td>comprehensive_care</td>\n      <td>3.0</td>\n      <td>3.0</td>\n      <td>NaN</td>\n      <td>Filled</td>\n      <td>Nil treatment</td>\n      <td>Nil treatment</td>\n      <td>Nil treatment</td>\n      <td>Nil treatment</td>\n      <td>Nil treatment</td>\n      <td>Nil treatment</td>\n      <td>Nil treatment</td>\n      <td>Nil treatment</td>\n      <td>Nil treatment</td>\n      <td>Nil treatment</td>\n      <td>Extracted</td>\n      <td>Extracted</td>\n      <td>Nil treatment</td>\n      <td>Nil treatment</td>\n      <td>Nil treatment</td>\n      <td>Nil treatment</td>\n      <td>Nil treatment</td>\n      <td>Nil treatment</td>\n      <td>Nil treatment</td>\n      <td>Nil treatment</td>\n      <td>Nil treatment</td>\n      <td>Nil treatment</td>\n      <td>Filled</td>\n      <td>NaN</td>\n      <td>NaN</td>\n      <td>NaN</td>\n      <td>NaN</td>\n      <td>NaN</td>\n      <td>NaN</td>\n      <td>NaN</td>\n      <td>NaN</td>\n      <td>NaN</td>\n      <td>NaN</td>\n      <td>NaN</td>\n      <td>NaN</td>\n    </tr>\n  </tbody>\n</table>\n</div>"
     },
     "metadata": {},
     "output_type": "display_data"
    }
   ],
   "source": [
    "from IPython.display import display\n",
    "\n",
    "three_ops = ga_data.dgaGATotal == 3\n",
    "three_op_ids = ga_data[three_ops].ChildID.unique()\n",
    "\n",
    "for id in three_op_ids[:2]:\n",
    "    print(\"GA Entries:\")\n",
    "    display(ga_data[ga_data.ChildID == id]\n",
    "            .sort_values([\"dgaGASequence\"])) #%%\n",
    "    print(\"Merged Entries:\")\n",
    "    display(merge_data.loc[merge_data.ChildID == id, ga_data.columns]\n",
    "            .sort_values([\"dgaGASequence\"])) #%%"
   ],
   "metadata": {
    "collapsed": false,
    "pycharm": {
     "name": "#%%\n"
    }
   }
  },
  {
   "cell_type": "markdown",
   "source": [
    "It seems something has gone wrong with the kids that have been given 3 GAs - the entries for the first and second GAs have been duplicated - all the obs for entries with sequence 1 or 2 are identical (other than the sequence obs itself)\n",
    "\n",
    "probs something went wrong with data extract or method for counting kids that appear multiple times\n",
    "\n",
    "remove for now:"
   ],
   "metadata": {
    "collapsed": false,
    "pycharm": {
     "name": "#%% md\n"
    }
   }
  },
  {
   "cell_type": "code",
   "execution_count": 7,
   "outputs": [],
   "source": [
    "duplicate_ga_entries = ga_data.dgaGASequence == 2\n",
    "ga_data = ga_data[~duplicate_ga_entries]\n",
    "\n",
    "duplicate_merged_entries = merge_data.dgaGASequence == 2\n",
    "merge_data = merge_data[~duplicate_merged_entries]"
   ],
   "metadata": {
    "collapsed": false,
    "pycharm": {
     "name": "#%%\n"
    }
   }
  },
  {
   "cell_type": "markdown",
   "source": [
    "## Test That Epi / GA data agree with merged data\n",
    "\n",
    "EPI data is fine (we don't care about age cos we binned that)"
   ],
   "metadata": {
    "collapsed": false
   }
  },
  {
   "cell_type": "code",
   "execution_count": 8,
   "outputs": [
    {
     "name": "stdout",
     "output_type": "stream",
     "text": [
      "================================================================================\n",
      "problem with AgeMths\n",
      "-354 columns dont match\n",
      "\n"
     ]
    }
   ],
   "source": [
    "epi_test_merge = epi_data.merge(merge_data, on=\"ChildID\", how=\"left\")\n",
    "\n",
    "problem_idxs = []\n",
    "for col in epi_test_merge.columns:\n",
    "    if col[-2:] == \"_x\":\n",
    "        x_col = col\n",
    "        y_col = col[:-1] + \"y\"\n",
    "\n",
    "        match_mask = epi_test_merge[x_col] == epi_test_merge[y_col]\n",
    "        both_na_mask = epi_test_merge[x_col].isna() & epi_test_merge[y_col].isna()\n",
    "\n",
    "        n_same = sum(match_mask)\n",
    "        n_both_na =  sum(both_na_mask)\n",
    "        n_same += n_both_na\n",
    "\n",
    "        if n_same != len(epi_test_merge):\n",
    "            print(\"=\" * 80)\n",
    "            print(f\"problem with {col[:-2]}\")\n",
    "            print(f\"{n_same - len(epi_test_merge)} columns dont match\")\n",
    "            print()\n",
    "            problem_idxs += list(\n",
    "                epi_test_merge[~match_mask & ~both_na_mask].index\n",
    "            )"
   ],
   "metadata": {
    "collapsed": false,
    "pycharm": {
     "name": "#%%\n"
    }
   }
  },
  {
   "cell_type": "markdown",
   "source": [
    "GA data not so much:"
   ],
   "metadata": {
    "collapsed": false,
    "pycharm": {
     "name": "#%% md\n"
    }
   }
  },
  {
   "cell_type": "code",
   "execution_count": 9,
   "outputs": [
    {
     "name": "stdout",
     "output_type": "stream",
     "text": [
      "================================================================================\n",
      "problem with PregnancyID\n",
      "-6 columns dont match\n",
      "\n",
      "================================================================================\n",
      "problem with MotherID\n",
      "-6 columns dont match\n",
      "\n",
      "================================================================================\n",
      "problem with FatherID\n",
      "-1 columns dont match\n",
      "\n",
      "================================================================================\n",
      "problem with dgaWeight\n",
      "-768 columns dont match\n",
      "\n",
      "================================================================================\n",
      "problem with res6mcage\n",
      "-1075 columns dont match\n",
      "\n",
      "================================================================================\n",
      "problem with res6mcbetterstart\n",
      "-1051 columns dont match\n",
      "\n"
     ]
    }
   ],
   "source": [
    "ga_test_merge = ga_data.merge(merge_data,\n",
    "                              on=[\"ChildID\", \"AgeMths\"],\n",
    "                              how=\"left\")\n",
    "\n",
    "problem_idxs = {}\n",
    "for col in ga_test_merge.columns:\n",
    "    if col[-2:] == \"_x\":\n",
    "        x_col = col\n",
    "        y_col = col[:-1] + \"y\"\n",
    "\n",
    "        match_mask = ga_test_merge[x_col] == ga_test_merge[y_col]\n",
    "        both_na_mask = ga_test_merge[x_col].isna() & ga_test_merge[y_col].isna()\n",
    "\n",
    "        n_same = sum(match_mask)\n",
    "        n_both_na =  sum(both_na_mask)\n",
    "        n_same += n_both_na\n",
    "\n",
    "        if n_same != len(ga_test_merge):\n",
    "            print(\"=\" * 80)\n",
    "            print(f\"problem with {col[:-2]}\")\n",
    "            print(f\"{n_same - len(ga_test_merge)} columns dont match\")\n",
    "            print()\n",
    "            problem_idxs[col[:-2]] = list(\n",
    "                ga_test_merge[~match_mask & ~both_na_mask].ChildID.values\n",
    "            )"
   ],
   "metadata": {
    "collapsed": false,
    "pycharm": {
     "name": "#%%\n"
    }
   }
  },
  {
   "cell_type": "markdown",
   "source": [
    "Not too bothered about Mother / Pregnancy / Father ID at mo\n",
    "\n",
    "* dgaWeight - has been rounded and there appear to have been rounding errors - replace with col from GA data\n",
    "* res6mcage / res6mcbetterstart - like AgeMths have been overwritten in merged data and are all NaNs - just copy across from ga data where blank"
   ],
   "metadata": {
    "collapsed": false,
    "pycharm": {
     "name": "#%% md\n"
    }
   }
  },
  {
   "cell_type": "code",
   "execution_count": 10,
   "outputs": [],
   "source": [
    "merge_data.drop(\"dgaWeight\", axis=1, inplace=True)\n",
    "# merge AgeMths col from GA data into merged data\n",
    "ga_key_cols = [\"ChildID\", \"AgeMths\"]\n",
    "merge_data = merge_data.merge(ga_data[ga_key_cols + [\"dgaWeight\"]],\n",
    "                              how=\"left\",\n",
    "                              on=ga_key_cols)\n",
    "\n",
    "mc_cols = [\"res6mcage\", \"res6mcbetterstart\"]\n",
    "merge_data = merge_data.merge(ga_data[ga_key_cols + mc_cols],\n",
    "                              how=\"left\",\n",
    "                              on=ga_key_cols,\n",
    "                              suffixes=(\"\", \"_ga\"))\n",
    "mcage_is_na = merge_data.res6mcage.isna()\n",
    "merge_data.loc[mcage_is_na, \"res6mcage\"] = merge_data[mcage_is_na].res6mcage_ga\n",
    "\n",
    "bs_is_na = merge_data.res6mcbetterstart.isna()\n",
    "merge_data.loc[bs_is_na, \"res6mcbetterstart\"] = (\n",
    "    merge_data[bs_is_na].res6mcbetterstart_ga\n",
    ")\n",
    "merge_data.drop(\"res6mcbetterstart_ga\", axis=1, inplace=True)"
   ],
   "metadata": {
    "collapsed": false,
    "pycharm": {
     "name": "#%%\n"
    }
   }
  },
  {
   "cell_type": "markdown",
   "source": [
    "# Total extraction columns\n",
    "\n",
    "Merged data includes 3 columns that aren't in GA data but are definitely part of the GA information:\n",
    "\n",
    "`totalnumberofprimaryextractions`\n",
    "\n",
    "`totalnumberofsecondaryextractions`\n",
    "\n",
    "`Totalnoextractions`\n",
    "\n",
    "Each pretty self-explanatory. First issue - primary & secondary extractions aren't detailed in ga data, so no way to check where this info comes from / how it's calculated.\n",
    "\n",
    "Next - primary extractions + secondary extractions != total extractions:"
   ],
   "metadata": {
    "collapsed": false,
    "pycharm": {
     "name": "#%% md\n"
    }
   }
  },
  {
   "cell_type": "code",
   "execution_count": 11,
   "outputs": [
    {
     "name": "stdout",
     "output_type": "stream",
     "text": [
      "in 353 entries primary extractions + secondary extractions = total extractions\n"
     ]
    }
   ],
   "source": [
    "extractions_sum = (merge_data.totalnumberofprimaryextractions +\n",
    "                   merge_data.totalnumberofpermanentextractions)\n",
    "n_agreement = sum(merge_data.Totalnoextractions == extractions_sum)\n",
    "\n",
    "print(f\"in {n_agreement} entries primary extractions + secondary \"\n",
    "      \"extractions = total extractions\")"
   ],
   "metadata": {
    "collapsed": false,
    "pycharm": {
     "name": "#%%\n"
    }
   }
  },
  {
   "cell_type": "markdown",
   "source": [
    "manually aggregating extractions from tooth level data bears more fruit"
   ],
   "metadata": {
    "collapsed": false,
    "pycharm": {
     "name": "#%% md\n"
    }
   }
  },
  {
   "cell_type": "code",
   "execution_count": 12,
   "outputs": [
    {
     "name": "stdout",
     "output_type": "stream",
     "text": [
      "in 353 entries aggregated extractions = total extractions\n",
      "in 1077 entries aggregated extractions = primary + secondary extractions\n"
     ]
    }
   ],
   "source": [
    "tooth_cols = [col for col in merge_data.columns\n",
    "              if col[:4] in [\"dgaU\", \"dgaL\"]]\n",
    "\n",
    "aggregated_extractions = np.zeros(len(merge_data))\n",
    "\n",
    "for col in tooth_cols:\n",
    "    aggregated_extractions += merge_data[col] == \"Extracted\"\n",
    "\n",
    "total_agreement = sum(\n",
    "    merge_data.Totalnoextractions == aggregated_extractions\n",
    ")\n",
    "print(f\"in {total_agreement} entries aggregated extractions = total extractions\")\n",
    "man_sum_agreement = sum(aggregated_extractions == extractions_sum)\n",
    "print(f\"in {man_sum_agreement} entries aggregated extractions = primary + secondary extractions\")"
   ],
   "metadata": {
    "collapsed": false,
    "pycharm": {
     "name": "#%%\n"
    }
   }
  },
  {
   "cell_type": "markdown",
   "source": [
    "seems the calculations for Totalnoextractions have been done incorrectly, but the tooth-level data and the counts of primary and secondary extractions agree.\n",
    "\n",
    "So, just delete total extractions column and replace with aggregates - primary secondary totals agree otherwise"
   ],
   "metadata": {
    "collapsed": false,
    "pycharm": {
     "name": "#%% md\n"
    }
   }
  },
  {
   "cell_type": "code",
   "execution_count": 13,
   "outputs": [],
   "source": [
    "merge_data[\"Totalnoextractions\"] = aggregated_extractions"
   ],
   "metadata": {
    "collapsed": false,
    "pycharm": {
     "name": "#%%\n"
    }
   }
  },
  {
   "cell_type": "markdown",
   "source": [
    "# Split Merged Data\n",
    "\n",
    "Not much use in having GA and Epi datasets merged - split and remove any irrelevant columns:\n"
   ],
   "metadata": {
    "collapsed": false,
    "pycharm": {
     "name": "#%% md\n"
    }
   }
  },
  {
   "cell_type": "code",
   "execution_count": 17,
   "outputs": [],
   "source": [
    "merge_cols = [col for col in merge_data.columns\n",
    "              if col not in ga_data.columns\n",
    "              and col not in epi_data.columns]\n",
    "\n",
    "is_epi = merge_data.Epi == 1\n",
    "is_ga = ~merge_data.AgeMths.isna()\n",
    "\n",
    "ga_data_final = merge_data[is_ga][list(ga_data.columns) + merge_cols]\n",
    "epi_data_final = merge_data[is_epi][list(epi_data.columns) + merge_cols]\n",
    "\n",
    "rename_cols = {\n",
    "    'admincgender': 'gender',\n",
    "    'agefm_fbqall': 'father_age_at_q',\n",
    "    'agemm_mbqall': 'mother_age_at_q',\n",
    "    'ben0mentst': 'on_benefits',\n",
    "    'bib6a02': 'describe_health_q',\n",
    "    'bib6b04': 'has_diagnosis_q',\n",
    "    'bib6b05': 'hospital_admission_q',\n",
    "    'deminfeth3gpcomb': 'ethnicity',\n",
    "    'edcont_eal': 'english_additional_lang',\n",
    "    'edcont_lac': 'looked_after_child',\n",
    "    'edcont_sen': 'special_ed_needs',\n",
    "    'edu0fthede': 'father_highest_ed',\n",
    "    'edu0mumede': 'mother_highest_ed',\n",
    "    'eth0eth9gp': 'mother_ethnicity',\n",
    "    'fbqageeduc': 'age_father_complete_ed',\n",
    "    'fbqcountrybirth': 'father_birthplace',\n",
    "    'imd_2010_decile_nat': 'imd_2010_decile',\n",
    "    'mbqlcasep5gp': 'socio_economic_pos',\n",
    "    'org0agemuk': 'age_mother_moved_uk',\n",
    "    'org0mmubct': 'mother_birthplace',\n",
    "    'qad0langua': 'questionaire_language',\n",
    "    'Totalnoextractions': 'n_extractions',\n",
    "    'totalnumberofprimaryextractions': 'n_primary_extract',\n",
    "    'totalnumberofpermanentextractions': 'n_perm_extract',\n",
    "    'AgeMths': 'age_at_ga',\n",
    "    'ddsdt': 'decayed_teeth',\n",
    "    'ddsmt':'missing_teeth',\n",
    "    'ddsft': 'filled_teeth',\n",
    "    'ddsdmft': 'dmft',\n",
    "    'dgaGAType': 'type_of_ga',\n",
    "    'dgaGATotal':'total_ga',\n",
    "    'dgaGASequence': 'ga_sequence',\n",
    "    'dgaWeight': 'weight_at_ga',\n",
    "    'dgaUR6':'ur6',\n",
    "    'dgaURE':'urE',\n",
    "    'dgaURD':'urd',\n",
    "    'dgaURC':'urc',\n",
    "    'dgaURB':'urb',\n",
    "    'dgaURA':'ura',\n",
    "    'dgaULA':'ula',\n",
    "    'dgaULB':'ulb',\n",
    "    'dgaULC':'ulc',\n",
    "    'dgaULD':'uld',\n",
    "    'dgaULE':'ule',\n",
    "    'dgaUL6':'ul6',\n",
    "    'dgaLL6':'ll6',\n",
    "    'dgaLLE':'lle',\n",
    "    'dgaLLD':'lld',\n",
    "    'dgaLLC':'llc',\n",
    "    'dgaLLB':'llb',\n",
    "    'dgaLLA':'lla',\n",
    "    'dgaLRA':'lra',\n",
    "    'dgaLRB':'lrb',\n",
    "    'dgaLRC':'lrc',\n",
    "    'dgaLRD':'lrd',\n",
    "    'dgaLRE':'lre',\n",
    "    'dgaLR6':'lr6',\n",
    "    'dgaUR4':'ur4',\n",
    "    'dgaUR1':'ur1',\n",
    "    'dgaUL1':'ul1',\n",
    "    'dgaUL4':'ul4',\n",
    "    'dgaLL5':'ll5',\n",
    "    'dgaLL4':'ll4',\n",
    "    'dgaLL1':'ll1',\n",
    "    'dgaLR1':'lr1',\n",
    "    'dgaLR4':'lr4',\n",
    "    'dgaLR5':'lr5'\n",
    "}\n",
    "ga_drop_cols = [\"GATx\", \"Epi\"]\n",
    "epi_drop_cols = ga_drop_cols + [\"age_at_ga\"]\n",
    "\n",
    "epi_data_final.rename(rename_cols, axis=1, inplace=True)\n",
    "ga_data_final.rename(rename_cols, axis=1, inplace=True)\n"
   ],
   "metadata": {
    "collapsed": false,
    "pycharm": {
     "name": "#%%\n"
    }
   }
  },
  {
   "cell_type": "code",
   "execution_count": 18,
   "outputs": [
    {
     "data": {
      "text/plain": "      ChildID PregnancyID  MotherID  FatherID  age_at_ga  decayed_teeth  \\\n200     19222     12930P2    2846.0   32339.0       94.0            1.0   \n201     21558     17527P1    7256.0   31664.0       91.0            0.0   \n202     22693     19462P1    8916.0       NaN       56.0            0.0   \n203     25537     22516P1   11613.0       NaN       39.0            0.0   \n1038    18794     15935P1    5745.0       NaN       72.0            0.0   \n...       ...         ...       ...       ...        ...            ...   \n1400    19117     18712P1    8322.0   31892.0        NaN           10.0   \n1401    23634     19030P1    8582.0       NaN        NaN            7.0   \n1402    23747     41018P1   12417.0       NaN        NaN           10.0   \n1403    26372     22185P1   11302.0       NaN        NaN            0.0   \n1404    24415     18746P1    8356.0       NaN        NaN           10.0   \n\n      missing_teeth  filled_teeth  dmft  ddscareindex  res6mcage  \\\n200             0.0           0.0   1.0           0.0       66.0   \n201             0.0           2.0   2.0           1.0       66.0   \n202             8.0           0.0   8.0           0.0       66.0   \n203            16.0           0.0  16.0           0.0       60.0   \n1038            0.0           0.0   0.0           0.0       66.0   \n...             ...           ...   ...           ...        ...   \n1400            0.0           0.0  10.0           0.0       66.0   \n1401            2.0           1.0  10.0           0.0       66.0   \n1402            0.0           0.0  10.0           0.0       66.0   \n1403           10.0           0.0  10.0           0.0       60.0   \n1404            0.0           1.0  11.0           0.0       66.0   \n\n     res6mcbetterstart  gender  father_age_at_q  mother_age_at_q on_benefits  \\\n200                 No    Male            339.0            271.0         Yes   \n201                 No  Female            272.0            269.0          No   \n202                 No  Female              NaN              NaN         NaN   \n203                 No    Male              NaN            494.0         Yes   \n1038               Yes  Female              NaN            367.0         Yes   \n...                ...     ...              ...              ...         ...   \n1400               Yes    Male            269.0              NaN         NaN   \n1401               Yes    Male              NaN              NaN         NaN   \n1402                No    Male              NaN              NaN         NaN   \n1403                No    Male              NaN            241.0         Yes   \n1404                No  Female              NaN              NaN         NaN   \n\n     describe_health_q has_diagnosis_q hospital_admission_q      ethnicity  \\\n200                NaN             NaN                  NaN  White British   \n201                NaN             NaN                  NaN      Pakistani   \n202                NaN             NaN                  NaN      Pakistani   \n203                NaN             NaN                  NaN      Pakistani   \n1038         Very good              No                   No      Pakistani   \n...                ...             ...                  ...            ...   \n1400               NaN             NaN                  NaN          Other   \n1401               NaN             NaN                  NaN      Pakistani   \n1402               NaN             NaN                  NaN      Pakistani   \n1403               NaN             NaN                  NaN  White British   \n1404               NaN             NaN                  NaN          Other   \n\n     english_additional_lang looked_after_child special_ed_needs  \\\n200                       No                 No      SEN Support   \n201                      Yes                 No      SEN Support   \n202                      Yes                 No          Not SEN   \n203                      Yes                 No          Not SEN   \n1038                      No                 No          Not SEN   \n...                      ...                ...              ...   \n1400                     Yes                 No          Not SEN   \n1401                      No                 No          Not SEN   \n1402                      No                 No          Not SEN   \n1403                      No                 No      SEN Support   \n1404                     Yes                 No          Not SEN   \n\n        father_highest_ed   mother_highest_ed mother_ethnicity  \\\n200     5 GCSE equivalent   5 GCSE equivalent    White British   \n201     5 GCSE equivalent  <5 GCSE equivalent        Pakistani   \n202                   NaN                 NaN              NaN   \n203   Higher than A-level   5 GCSE equivalent        Pakistani   \n1038   <5 GCSE equivalent  <5 GCSE equivalent        Pakistani   \n...                   ...                 ...              ...   \n1400                  NaN                 NaN              NaN   \n1401                  NaN                 NaN              NaN   \n1402                  NaN                 NaN              NaN   \n1403           Don't know  <5 GCSE equivalent    White British   \n1404                  NaN                 NaN              NaN   \n\n     age_father_complete_ed father_birthplace has_bib1kc  imd_2010_decile  \\\n200             16 or under    United Kingdom        NaN              1.0   \n201                   17-19    United Kingdom        NaN              5.0   \n202                     NaN               NaN        NaN              NaN   \n203                     NaN               NaN        NaN              1.0   \n1038                    NaN               NaN        has              1.0   \n...                     ...               ...        ...              ...   \n1400             20 or over             Other        NaN              NaN   \n1401                    NaN               NaN        NaN              NaN   \n1402                    NaN               NaN        NaN              NaN   \n1403                    NaN               NaN        NaN              1.0   \n1404                    NaN               NaN        NaN              NaN   \n\n               socio_economic_pos  age_mother_moved_uk mother_birthplace  \\\n200   Employed no access to money                  NaN           England   \n201           Benefits but coping                 19.0          Pakistan   \n202                           NaN                  NaN               NaN   \n203   Employed no access to money                  4.0          Pakistan   \n1038          Benefits but coping                  NaN          Pakistan   \n...                           ...                  ...               ...   \n1400                          NaN                  NaN               NaN   \n1401                          NaN                  NaN               NaN   \n1402                          NaN                  NaN               NaN   \n1403          Benefits but coping                  NaN           England   \n1404                          NaN                  NaN               NaN   \n\n     questionaire_language  GATx  Epi  n_extractions  n_primary_extract  \\\n200                English   1.0  1.0            9.0                9.0   \n201                   Urdu   1.0  1.0            8.0                6.0   \n202                    NaN   1.0  1.0            8.0                8.0   \n203                English   1.0  1.0           17.0               16.0   \n1038               English   1.0  1.0            9.0                9.0   \n...                    ...   ...  ...            ...                ...   \n1400                   NaN   2.0  1.0            0.0                NaN   \n1401                   NaN   2.0  1.0            0.0                NaN   \n1402                   NaN   2.0  1.0            0.0                NaN   \n1403               English   2.0  1.0            0.0                NaN   \n1404                   NaN   2.0  1.0            0.0                NaN   \n\n      n_perm_extract  res6mcage_ga  \n200              0.0          78.0  \n201              2.0          78.0  \n202              0.0          54.0  \n203              1.0          36.0  \n1038             0.0          72.0  \n...              ...           ...  \n1400             NaN           NaN  \n1401             NaN           NaN  \n1402             NaN           NaN  \n1403             NaN           NaN  \n1404             NaN           NaN  \n\n[354 rows x 40 columns]",
      "text/html": "<div>\n<style scoped>\n    .dataframe tbody tr th:only-of-type {\n        vertical-align: middle;\n    }\n\n    .dataframe tbody tr th {\n        vertical-align: top;\n    }\n\n    .dataframe thead th {\n        text-align: right;\n    }\n</style>\n<table border=\"1\" class=\"dataframe\">\n  <thead>\n    <tr style=\"text-align: right;\">\n      <th></th>\n      <th>ChildID</th>\n      <th>PregnancyID</th>\n      <th>MotherID</th>\n      <th>FatherID</th>\n      <th>age_at_ga</th>\n      <th>decayed_teeth</th>\n      <th>missing_teeth</th>\n      <th>filled_teeth</th>\n      <th>dmft</th>\n      <th>ddscareindex</th>\n      <th>res6mcage</th>\n      <th>res6mcbetterstart</th>\n      <th>gender</th>\n      <th>father_age_at_q</th>\n      <th>mother_age_at_q</th>\n      <th>on_benefits</th>\n      <th>describe_health_q</th>\n      <th>has_diagnosis_q</th>\n      <th>hospital_admission_q</th>\n      <th>ethnicity</th>\n      <th>english_additional_lang</th>\n      <th>looked_after_child</th>\n      <th>special_ed_needs</th>\n      <th>father_highest_ed</th>\n      <th>mother_highest_ed</th>\n      <th>mother_ethnicity</th>\n      <th>age_father_complete_ed</th>\n      <th>father_birthplace</th>\n      <th>has_bib1kc</th>\n      <th>imd_2010_decile</th>\n      <th>socio_economic_pos</th>\n      <th>age_mother_moved_uk</th>\n      <th>mother_birthplace</th>\n      <th>questionaire_language</th>\n      <th>GATx</th>\n      <th>Epi</th>\n      <th>n_extractions</th>\n      <th>n_primary_extract</th>\n      <th>n_perm_extract</th>\n      <th>res6mcage_ga</th>\n    </tr>\n  </thead>\n  <tbody>\n    <tr>\n      <th>200</th>\n      <td>19222</td>\n      <td>12930P2</td>\n      <td>2846.0</td>\n      <td>32339.0</td>\n      <td>94.0</td>\n      <td>1.0</td>\n      <td>0.0</td>\n      <td>0.0</td>\n      <td>1.0</td>\n      <td>0.0</td>\n      <td>66.0</td>\n      <td>No</td>\n      <td>Male</td>\n      <td>339.0</td>\n      <td>271.0</td>\n      <td>Yes</td>\n      <td>NaN</td>\n      <td>NaN</td>\n      <td>NaN</td>\n      <td>White British</td>\n      <td>No</td>\n      <td>No</td>\n      <td>SEN Support</td>\n      <td>5 GCSE equivalent</td>\n      <td>5 GCSE equivalent</td>\n      <td>White British</td>\n      <td>16 or under</td>\n      <td>United Kingdom</td>\n      <td>NaN</td>\n      <td>1.0</td>\n      <td>Employed no access to money</td>\n      <td>NaN</td>\n      <td>England</td>\n      <td>English</td>\n      <td>1.0</td>\n      <td>1.0</td>\n      <td>9.0</td>\n      <td>9.0</td>\n      <td>0.0</td>\n      <td>78.0</td>\n    </tr>\n    <tr>\n      <th>201</th>\n      <td>21558</td>\n      <td>17527P1</td>\n      <td>7256.0</td>\n      <td>31664.0</td>\n      <td>91.0</td>\n      <td>0.0</td>\n      <td>0.0</td>\n      <td>2.0</td>\n      <td>2.0</td>\n      <td>1.0</td>\n      <td>66.0</td>\n      <td>No</td>\n      <td>Female</td>\n      <td>272.0</td>\n      <td>269.0</td>\n      <td>No</td>\n      <td>NaN</td>\n      <td>NaN</td>\n      <td>NaN</td>\n      <td>Pakistani</td>\n      <td>Yes</td>\n      <td>No</td>\n      <td>SEN Support</td>\n      <td>5 GCSE equivalent</td>\n      <td>&lt;5 GCSE equivalent</td>\n      <td>Pakistani</td>\n      <td>17-19</td>\n      <td>United Kingdom</td>\n      <td>NaN</td>\n      <td>5.0</td>\n      <td>Benefits but coping</td>\n      <td>19.0</td>\n      <td>Pakistan</td>\n      <td>Urdu</td>\n      <td>1.0</td>\n      <td>1.0</td>\n      <td>8.0</td>\n      <td>6.0</td>\n      <td>2.0</td>\n      <td>78.0</td>\n    </tr>\n    <tr>\n      <th>202</th>\n      <td>22693</td>\n      <td>19462P1</td>\n      <td>8916.0</td>\n      <td>NaN</td>\n      <td>56.0</td>\n      <td>0.0</td>\n      <td>8.0</td>\n      <td>0.0</td>\n      <td>8.0</td>\n      <td>0.0</td>\n      <td>66.0</td>\n      <td>No</td>\n      <td>Female</td>\n      <td>NaN</td>\n      <td>NaN</td>\n      <td>NaN</td>\n      <td>NaN</td>\n      <td>NaN</td>\n      <td>NaN</td>\n      <td>Pakistani</td>\n      <td>Yes</td>\n      <td>No</td>\n      <td>Not SEN</td>\n      <td>NaN</td>\n      <td>NaN</td>\n      <td>NaN</td>\n      <td>NaN</td>\n      <td>NaN</td>\n      <td>NaN</td>\n      <td>NaN</td>\n      <td>NaN</td>\n      <td>NaN</td>\n      <td>NaN</td>\n      <td>NaN</td>\n      <td>1.0</td>\n      <td>1.0</td>\n      <td>8.0</td>\n      <td>8.0</td>\n      <td>0.0</td>\n      <td>54.0</td>\n    </tr>\n    <tr>\n      <th>203</th>\n      <td>25537</td>\n      <td>22516P1</td>\n      <td>11613.0</td>\n      <td>NaN</td>\n      <td>39.0</td>\n      <td>0.0</td>\n      <td>16.0</td>\n      <td>0.0</td>\n      <td>16.0</td>\n      <td>0.0</td>\n      <td>60.0</td>\n      <td>No</td>\n      <td>Male</td>\n      <td>NaN</td>\n      <td>494.0</td>\n      <td>Yes</td>\n      <td>NaN</td>\n      <td>NaN</td>\n      <td>NaN</td>\n      <td>Pakistani</td>\n      <td>Yes</td>\n      <td>No</td>\n      <td>Not SEN</td>\n      <td>Higher than A-level</td>\n      <td>5 GCSE equivalent</td>\n      <td>Pakistani</td>\n      <td>NaN</td>\n      <td>NaN</td>\n      <td>NaN</td>\n      <td>1.0</td>\n      <td>Employed no access to money</td>\n      <td>4.0</td>\n      <td>Pakistan</td>\n      <td>English</td>\n      <td>1.0</td>\n      <td>1.0</td>\n      <td>17.0</td>\n      <td>16.0</td>\n      <td>1.0</td>\n      <td>36.0</td>\n    </tr>\n    <tr>\n      <th>1038</th>\n      <td>18794</td>\n      <td>15935P1</td>\n      <td>5745.0</td>\n      <td>NaN</td>\n      <td>72.0</td>\n      <td>0.0</td>\n      <td>0.0</td>\n      <td>0.0</td>\n      <td>0.0</td>\n      <td>0.0</td>\n      <td>66.0</td>\n      <td>Yes</td>\n      <td>Female</td>\n      <td>NaN</td>\n      <td>367.0</td>\n      <td>Yes</td>\n      <td>Very good</td>\n      <td>No</td>\n      <td>No</td>\n      <td>Pakistani</td>\n      <td>No</td>\n      <td>No</td>\n      <td>Not SEN</td>\n      <td>&lt;5 GCSE equivalent</td>\n      <td>&lt;5 GCSE equivalent</td>\n      <td>Pakistani</td>\n      <td>NaN</td>\n      <td>NaN</td>\n      <td>has</td>\n      <td>1.0</td>\n      <td>Benefits but coping</td>\n      <td>NaN</td>\n      <td>Pakistan</td>\n      <td>English</td>\n      <td>1.0</td>\n      <td>1.0</td>\n      <td>9.0</td>\n      <td>9.0</td>\n      <td>0.0</td>\n      <td>72.0</td>\n    </tr>\n    <tr>\n      <th>...</th>\n      <td>...</td>\n      <td>...</td>\n      <td>...</td>\n      <td>...</td>\n      <td>...</td>\n      <td>...</td>\n      <td>...</td>\n      <td>...</td>\n      <td>...</td>\n      <td>...</td>\n      <td>...</td>\n      <td>...</td>\n      <td>...</td>\n      <td>...</td>\n      <td>...</td>\n      <td>...</td>\n      <td>...</td>\n      <td>...</td>\n      <td>...</td>\n      <td>...</td>\n      <td>...</td>\n      <td>...</td>\n      <td>...</td>\n      <td>...</td>\n      <td>...</td>\n      <td>...</td>\n      <td>...</td>\n      <td>...</td>\n      <td>...</td>\n      <td>...</td>\n      <td>...</td>\n      <td>...</td>\n      <td>...</td>\n      <td>...</td>\n      <td>...</td>\n      <td>...</td>\n      <td>...</td>\n      <td>...</td>\n      <td>...</td>\n      <td>...</td>\n    </tr>\n    <tr>\n      <th>1400</th>\n      <td>19117</td>\n      <td>18712P1</td>\n      <td>8322.0</td>\n      <td>31892.0</td>\n      <td>NaN</td>\n      <td>10.0</td>\n      <td>0.0</td>\n      <td>0.0</td>\n      <td>10.0</td>\n      <td>0.0</td>\n      <td>66.0</td>\n      <td>Yes</td>\n      <td>Male</td>\n      <td>269.0</td>\n      <td>NaN</td>\n      <td>NaN</td>\n      <td>NaN</td>\n      <td>NaN</td>\n      <td>NaN</td>\n      <td>Other</td>\n      <td>Yes</td>\n      <td>No</td>\n      <td>Not SEN</td>\n      <td>NaN</td>\n      <td>NaN</td>\n      <td>NaN</td>\n      <td>20 or over</td>\n      <td>Other</td>\n      <td>NaN</td>\n      <td>NaN</td>\n      <td>NaN</td>\n      <td>NaN</td>\n      <td>NaN</td>\n      <td>NaN</td>\n      <td>2.0</td>\n      <td>1.0</td>\n      <td>0.0</td>\n      <td>NaN</td>\n      <td>NaN</td>\n      <td>NaN</td>\n    </tr>\n    <tr>\n      <th>1401</th>\n      <td>23634</td>\n      <td>19030P1</td>\n      <td>8582.0</td>\n      <td>NaN</td>\n      <td>NaN</td>\n      <td>7.0</td>\n      <td>2.0</td>\n      <td>1.0</td>\n      <td>10.0</td>\n      <td>0.0</td>\n      <td>66.0</td>\n      <td>Yes</td>\n      <td>Male</td>\n      <td>NaN</td>\n      <td>NaN</td>\n      <td>NaN</td>\n      <td>NaN</td>\n      <td>NaN</td>\n      <td>NaN</td>\n      <td>Pakistani</td>\n      <td>No</td>\n      <td>No</td>\n      <td>Not SEN</td>\n      <td>NaN</td>\n      <td>NaN</td>\n      <td>NaN</td>\n      <td>NaN</td>\n      <td>NaN</td>\n      <td>NaN</td>\n      <td>NaN</td>\n      <td>NaN</td>\n      <td>NaN</td>\n      <td>NaN</td>\n      <td>NaN</td>\n      <td>2.0</td>\n      <td>1.0</td>\n      <td>0.0</td>\n      <td>NaN</td>\n      <td>NaN</td>\n      <td>NaN</td>\n    </tr>\n    <tr>\n      <th>1402</th>\n      <td>23747</td>\n      <td>41018P1</td>\n      <td>12417.0</td>\n      <td>NaN</td>\n      <td>NaN</td>\n      <td>10.0</td>\n      <td>0.0</td>\n      <td>0.0</td>\n      <td>10.0</td>\n      <td>0.0</td>\n      <td>66.0</td>\n      <td>No</td>\n      <td>Male</td>\n      <td>NaN</td>\n      <td>NaN</td>\n      <td>NaN</td>\n      <td>NaN</td>\n      <td>NaN</td>\n      <td>NaN</td>\n      <td>Pakistani</td>\n      <td>No</td>\n      <td>No</td>\n      <td>Not SEN</td>\n      <td>NaN</td>\n      <td>NaN</td>\n      <td>NaN</td>\n      <td>NaN</td>\n      <td>NaN</td>\n      <td>NaN</td>\n      <td>NaN</td>\n      <td>NaN</td>\n      <td>NaN</td>\n      <td>NaN</td>\n      <td>NaN</td>\n      <td>2.0</td>\n      <td>1.0</td>\n      <td>0.0</td>\n      <td>NaN</td>\n      <td>NaN</td>\n      <td>NaN</td>\n    </tr>\n    <tr>\n      <th>1403</th>\n      <td>26372</td>\n      <td>22185P1</td>\n      <td>11302.0</td>\n      <td>NaN</td>\n      <td>NaN</td>\n      <td>0.0</td>\n      <td>10.0</td>\n      <td>0.0</td>\n      <td>10.0</td>\n      <td>0.0</td>\n      <td>60.0</td>\n      <td>No</td>\n      <td>Male</td>\n      <td>NaN</td>\n      <td>241.0</td>\n      <td>Yes</td>\n      <td>NaN</td>\n      <td>NaN</td>\n      <td>NaN</td>\n      <td>White British</td>\n      <td>No</td>\n      <td>No</td>\n      <td>SEN Support</td>\n      <td>Don't know</td>\n      <td>&lt;5 GCSE equivalent</td>\n      <td>White British</td>\n      <td>NaN</td>\n      <td>NaN</td>\n      <td>NaN</td>\n      <td>1.0</td>\n      <td>Benefits but coping</td>\n      <td>NaN</td>\n      <td>England</td>\n      <td>English</td>\n      <td>2.0</td>\n      <td>1.0</td>\n      <td>0.0</td>\n      <td>NaN</td>\n      <td>NaN</td>\n      <td>NaN</td>\n    </tr>\n    <tr>\n      <th>1404</th>\n      <td>24415</td>\n      <td>18746P1</td>\n      <td>8356.0</td>\n      <td>NaN</td>\n      <td>NaN</td>\n      <td>10.0</td>\n      <td>0.0</td>\n      <td>1.0</td>\n      <td>11.0</td>\n      <td>0.0</td>\n      <td>66.0</td>\n      <td>No</td>\n      <td>Female</td>\n      <td>NaN</td>\n      <td>NaN</td>\n      <td>NaN</td>\n      <td>NaN</td>\n      <td>NaN</td>\n      <td>NaN</td>\n      <td>Other</td>\n      <td>Yes</td>\n      <td>No</td>\n      <td>Not SEN</td>\n      <td>NaN</td>\n      <td>NaN</td>\n      <td>NaN</td>\n      <td>NaN</td>\n      <td>NaN</td>\n      <td>NaN</td>\n      <td>NaN</td>\n      <td>NaN</td>\n      <td>NaN</td>\n      <td>NaN</td>\n      <td>NaN</td>\n      <td>2.0</td>\n      <td>1.0</td>\n      <td>0.0</td>\n      <td>NaN</td>\n      <td>NaN</td>\n      <td>NaN</td>\n    </tr>\n  </tbody>\n</table>\n<p>354 rows × 40 columns</p>\n</div>"
     },
     "execution_count": 18,
     "metadata": {},
     "output_type": "execute_result"
    }
   ],
   "source": [
    "epi_data_final"
   ],
   "metadata": {
    "collapsed": false,
    "pycharm": {
     "name": "#%%\n"
    }
   }
  },
  {
   "cell_type": "code",
   "execution_count": 21,
   "outputs": [
    {
     "data": {
      "text/plain": "has    140\nName: has_bib1kc, dtype: int64"
     },
     "execution_count": 21,
     "metadata": {},
     "output_type": "execute_result"
    }
   ],
   "source": [
    "ga_data_final.has_bib1kc.value_counts()"
   ],
   "metadata": {
    "collapsed": false,
    "pycharm": {
     "name": "#%%\n"
    }
   }
  },
  {
   "cell_type": "code",
   "execution_count": null,
   "outputs": [],
   "source": [],
   "metadata": {
    "collapsed": false,
    "pycharm": {
     "name": "#%%\n"
    }
   }
  }
 ],
 "metadata": {
  "kernelspec": {
   "display_name": "Python 3",
   "language": "python",
   "name": "python3"
  },
  "language_info": {
   "codemirror_mode": {
    "name": "ipython",
    "version": 2
   },
   "file_extension": ".py",
   "mimetype": "text/x-python",
   "name": "python",
   "nbconvert_exporter": "python",
   "pygments_lexer": "ipython2",
   "version": "2.7.6"
  }
 },
 "nbformat": 4,
 "nbformat_minor": 0
}