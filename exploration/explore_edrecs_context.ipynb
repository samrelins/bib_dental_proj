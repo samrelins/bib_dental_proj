{
 "cells": [
  {
   "cell_type": "code",
   "execution_count": 1,
   "metadata": {
    "collapsed": true
   },
   "outputs": [],
   "source": [
    "import sys\n",
    "\n",
    "import pandas as pd\n",
    "\n",
    "sys.path.append('/Users/samrelins/Documents/LIDA/dental_project/src/')\n",
    "\n",
    "from edrecs_context_data_prep import *\n"
   ]
  },
  {
   "cell_type": "code",
   "execution_count": 2,
   "outputs": [],
   "source": [
    "data_dir = \"/Users/samrelins/Documents/LIDA/dental_project/data/\"\n",
    "context_train, context_test = prep_context_ga_data(data_dir)"
   ],
   "metadata": {
    "collapsed": false,
    "pycharm": {
     "name": "#%%\n"
    }
   }
  },
  {
   "cell_type": "code",
   "execution_count": 5,
   "outputs": [
    {
     "data": {
      "text/plain": "      entity_id  has_edrecs_context  edcont_academicyear edcont_actermbirth  \\\n9171   B1176932                   1                 2012             spring   \n8689   B1261775                   1                 2013             summer   \n7594   B1257484                   1                 2015             spring   \n9947   B1186303                   1                 2013             summer   \n9265   B1157007                   1                 2012             spring   \n...         ...                 ...                  ...                ...   \n10482  B1191832                   1                 2014             autumn   \n2436   B1243583                   1                 2015             autumn   \n8365   B1260470                   1                 2012             spring   \n10243  B1168764                   1                 2013             autumn   \n2049   B1239037                   1                 2015             autumn   \n\n      edcont_eal edcont_ethnic_origin edcont_fsm edcont_g_t edcont_gender  \\\n9171         yes            pakistani         no         no          male   \n8689          no            pakistani         no         no          male   \n7594         yes            pakistani         no         no          male   \n9947          no            pakistani        yes         no          male   \n9265          no        white_british        yes         no          male   \n...          ...                  ...        ...        ...           ...   \n10482        yes            pakistani         no         no          male   \n2436          no            pakistani         no         no        female   \n8365     unknown            pakistani         no         no          male   \n10243         no        white_british         no         no        female   \n2049         yes            pakistani         no         no          male   \n\n      edcont_lac edcont_sen  has_edcont  has_dental_ga  \n9171          no    not_sen           1            0.0  \n8689          no    not_sen           1            0.0  \n7594          no    not_sen           1            0.0  \n9947          no       echp           1            0.0  \n9265          no    not_sen           1            0.0  \n...          ...        ...         ...            ...  \n10482         no    not_sen           1            0.0  \n2436          no    not_sen           1            0.0  \n8365          no    not_sen           1            0.0  \n10243         no    not_sen           1            0.0  \n2049          no    not_sen           1            0.0  \n\n[7846 rows x 13 columns]",
      "text/html": "<div>\n<style scoped>\n    .dataframe tbody tr th:only-of-type {\n        vertical-align: middle;\n    }\n\n    .dataframe tbody tr th {\n        vertical-align: top;\n    }\n\n    .dataframe thead th {\n        text-align: right;\n    }\n</style>\n<table border=\"1\" class=\"dataframe\">\n  <thead>\n    <tr style=\"text-align: right;\">\n      <th></th>\n      <th>entity_id</th>\n      <th>has_edrecs_context</th>\n      <th>edcont_academicyear</th>\n      <th>edcont_actermbirth</th>\n      <th>edcont_eal</th>\n      <th>edcont_ethnic_origin</th>\n      <th>edcont_fsm</th>\n      <th>edcont_g_t</th>\n      <th>edcont_gender</th>\n      <th>edcont_lac</th>\n      <th>edcont_sen</th>\n      <th>has_edcont</th>\n      <th>has_dental_ga</th>\n    </tr>\n  </thead>\n  <tbody>\n    <tr>\n      <th>9171</th>\n      <td>B1176932</td>\n      <td>1</td>\n      <td>2012</td>\n      <td>spring</td>\n      <td>yes</td>\n      <td>pakistani</td>\n      <td>no</td>\n      <td>no</td>\n      <td>male</td>\n      <td>no</td>\n      <td>not_sen</td>\n      <td>1</td>\n      <td>0.0</td>\n    </tr>\n    <tr>\n      <th>8689</th>\n      <td>B1261775</td>\n      <td>1</td>\n      <td>2013</td>\n      <td>summer</td>\n      <td>no</td>\n      <td>pakistani</td>\n      <td>no</td>\n      <td>no</td>\n      <td>male</td>\n      <td>no</td>\n      <td>not_sen</td>\n      <td>1</td>\n      <td>0.0</td>\n    </tr>\n    <tr>\n      <th>7594</th>\n      <td>B1257484</td>\n      <td>1</td>\n      <td>2015</td>\n      <td>spring</td>\n      <td>yes</td>\n      <td>pakistani</td>\n      <td>no</td>\n      <td>no</td>\n      <td>male</td>\n      <td>no</td>\n      <td>not_sen</td>\n      <td>1</td>\n      <td>0.0</td>\n    </tr>\n    <tr>\n      <th>9947</th>\n      <td>B1186303</td>\n      <td>1</td>\n      <td>2013</td>\n      <td>summer</td>\n      <td>no</td>\n      <td>pakistani</td>\n      <td>yes</td>\n      <td>no</td>\n      <td>male</td>\n      <td>no</td>\n      <td>echp</td>\n      <td>1</td>\n      <td>0.0</td>\n    </tr>\n    <tr>\n      <th>9265</th>\n      <td>B1157007</td>\n      <td>1</td>\n      <td>2012</td>\n      <td>spring</td>\n      <td>no</td>\n      <td>white_british</td>\n      <td>yes</td>\n      <td>no</td>\n      <td>male</td>\n      <td>no</td>\n      <td>not_sen</td>\n      <td>1</td>\n      <td>0.0</td>\n    </tr>\n    <tr>\n      <th>...</th>\n      <td>...</td>\n      <td>...</td>\n      <td>...</td>\n      <td>...</td>\n      <td>...</td>\n      <td>...</td>\n      <td>...</td>\n      <td>...</td>\n      <td>...</td>\n      <td>...</td>\n      <td>...</td>\n      <td>...</td>\n      <td>...</td>\n    </tr>\n    <tr>\n      <th>10482</th>\n      <td>B1191832</td>\n      <td>1</td>\n      <td>2014</td>\n      <td>autumn</td>\n      <td>yes</td>\n      <td>pakistani</td>\n      <td>no</td>\n      <td>no</td>\n      <td>male</td>\n      <td>no</td>\n      <td>not_sen</td>\n      <td>1</td>\n      <td>0.0</td>\n    </tr>\n    <tr>\n      <th>2436</th>\n      <td>B1243583</td>\n      <td>1</td>\n      <td>2015</td>\n      <td>autumn</td>\n      <td>no</td>\n      <td>pakistani</td>\n      <td>no</td>\n      <td>no</td>\n      <td>female</td>\n      <td>no</td>\n      <td>not_sen</td>\n      <td>1</td>\n      <td>0.0</td>\n    </tr>\n    <tr>\n      <th>8365</th>\n      <td>B1260470</td>\n      <td>1</td>\n      <td>2012</td>\n      <td>spring</td>\n      <td>unknown</td>\n      <td>pakistani</td>\n      <td>no</td>\n      <td>no</td>\n      <td>male</td>\n      <td>no</td>\n      <td>not_sen</td>\n      <td>1</td>\n      <td>0.0</td>\n    </tr>\n    <tr>\n      <th>10243</th>\n      <td>B1168764</td>\n      <td>1</td>\n      <td>2013</td>\n      <td>autumn</td>\n      <td>no</td>\n      <td>white_british</td>\n      <td>no</td>\n      <td>no</td>\n      <td>female</td>\n      <td>no</td>\n      <td>not_sen</td>\n      <td>1</td>\n      <td>0.0</td>\n    </tr>\n    <tr>\n      <th>2049</th>\n      <td>B1239037</td>\n      <td>1</td>\n      <td>2015</td>\n      <td>autumn</td>\n      <td>yes</td>\n      <td>pakistani</td>\n      <td>no</td>\n      <td>no</td>\n      <td>male</td>\n      <td>no</td>\n      <td>not_sen</td>\n      <td>1</td>\n      <td>0.0</td>\n    </tr>\n  </tbody>\n</table>\n<p>7846 rows × 13 columns</p>\n</div>"
     },
     "execution_count": 5,
     "metadata": {},
     "output_type": "execute_result"
    }
   ],
   "source": [
    "context_train.pipe(convert_context_numerical_categories)"
   ],
   "metadata": {
    "collapsed": false,
    "pycharm": {
     "name": "#%%\n"
    }
   }
  },
  {
   "cell_type": "code",
   "execution_count": 4,
   "outputs": [
    {
     "data": {
      "text/plain": "      entity_id  has_edrecs_context  edcont_academicyear  edcont_actermbirth  \\\n432    B1216118                   1                    4                   1   \n5418   B1153428                   1                    3                   1   \n721    B1135169                   1                    1                   3   \n10549  B1174176                   1                    2                   3   \n8913   B1153030                   1                    2                   2   \n...         ...                 ...                  ...                 ...   \n8591   B1173269                   1                    3                   1   \n9266   B1178052                   1                    3                   1   \n1859   B1236868                   1                    4                   2   \n7156   B1255975                   1                    5                   2   \n11448  B1191725                   1                    3                   2   \n\n       edcont_eal  edcont_ethnic_origin  edcont_fsm  edcont_g_t  \\\n432             3                     3           1           1   \n5418            3                     3           1           1   \n721             3                     3           2           1   \n10549           3                     3           1           1   \n8913            3                     1           1           1   \n...           ...                   ...         ...         ...   \n8591            1                     2           1           1   \n9266            1                     8           1           2   \n1859            1                     8           1           1   \n7156            1                     3           1           1   \n11448           1                     8           1           1   \n\n       edcont_gender  edcont_lac  edcont_sen  has_edcont  has_dental_ga  \n432                1           1           2           1            0.0  \n5418               2           1           3           1            0.0  \n721                1           1           3           1            0.0  \n10549              2           1           3           1            1.0  \n8913               2           1           2           1            0.0  \n...              ...         ...         ...         ...            ...  \n8591               2           1           2           1            0.0  \n9266               1           1           2           1            0.0  \n1859               2           1           2           1            0.0  \n7156               2           1           2           1            0.0  \n11448              2           1           2           1            0.0  \n\n[3865 rows x 13 columns]",
      "text/html": "<div>\n<style scoped>\n    .dataframe tbody tr th:only-of-type {\n        vertical-align: middle;\n    }\n\n    .dataframe tbody tr th {\n        vertical-align: top;\n    }\n\n    .dataframe thead th {\n        text-align: right;\n    }\n</style>\n<table border=\"1\" class=\"dataframe\">\n  <thead>\n    <tr style=\"text-align: right;\">\n      <th></th>\n      <th>entity_id</th>\n      <th>has_edrecs_context</th>\n      <th>edcont_academicyear</th>\n      <th>edcont_actermbirth</th>\n      <th>edcont_eal</th>\n      <th>edcont_ethnic_origin</th>\n      <th>edcont_fsm</th>\n      <th>edcont_g_t</th>\n      <th>edcont_gender</th>\n      <th>edcont_lac</th>\n      <th>edcont_sen</th>\n      <th>has_edcont</th>\n      <th>has_dental_ga</th>\n    </tr>\n  </thead>\n  <tbody>\n    <tr>\n      <th>432</th>\n      <td>B1216118</td>\n      <td>1</td>\n      <td>4</td>\n      <td>1</td>\n      <td>3</td>\n      <td>3</td>\n      <td>1</td>\n      <td>1</td>\n      <td>1</td>\n      <td>1</td>\n      <td>2</td>\n      <td>1</td>\n      <td>0.0</td>\n    </tr>\n    <tr>\n      <th>5418</th>\n      <td>B1153428</td>\n      <td>1</td>\n      <td>3</td>\n      <td>1</td>\n      <td>3</td>\n      <td>3</td>\n      <td>1</td>\n      <td>1</td>\n      <td>2</td>\n      <td>1</td>\n      <td>3</td>\n      <td>1</td>\n      <td>0.0</td>\n    </tr>\n    <tr>\n      <th>721</th>\n      <td>B1135169</td>\n      <td>1</td>\n      <td>1</td>\n      <td>3</td>\n      <td>3</td>\n      <td>3</td>\n      <td>2</td>\n      <td>1</td>\n      <td>1</td>\n      <td>1</td>\n      <td>3</td>\n      <td>1</td>\n      <td>0.0</td>\n    </tr>\n    <tr>\n      <th>10549</th>\n      <td>B1174176</td>\n      <td>1</td>\n      <td>2</td>\n      <td>3</td>\n      <td>3</td>\n      <td>3</td>\n      <td>1</td>\n      <td>1</td>\n      <td>2</td>\n      <td>1</td>\n      <td>3</td>\n      <td>1</td>\n      <td>1.0</td>\n    </tr>\n    <tr>\n      <th>8913</th>\n      <td>B1153030</td>\n      <td>1</td>\n      <td>2</td>\n      <td>2</td>\n      <td>3</td>\n      <td>1</td>\n      <td>1</td>\n      <td>1</td>\n      <td>2</td>\n      <td>1</td>\n      <td>2</td>\n      <td>1</td>\n      <td>0.0</td>\n    </tr>\n    <tr>\n      <th>...</th>\n      <td>...</td>\n      <td>...</td>\n      <td>...</td>\n      <td>...</td>\n      <td>...</td>\n      <td>...</td>\n      <td>...</td>\n      <td>...</td>\n      <td>...</td>\n      <td>...</td>\n      <td>...</td>\n      <td>...</td>\n      <td>...</td>\n    </tr>\n    <tr>\n      <th>8591</th>\n      <td>B1173269</td>\n      <td>1</td>\n      <td>3</td>\n      <td>1</td>\n      <td>1</td>\n      <td>2</td>\n      <td>1</td>\n      <td>1</td>\n      <td>2</td>\n      <td>1</td>\n      <td>2</td>\n      <td>1</td>\n      <td>0.0</td>\n    </tr>\n    <tr>\n      <th>9266</th>\n      <td>B1178052</td>\n      <td>1</td>\n      <td>3</td>\n      <td>1</td>\n      <td>1</td>\n      <td>8</td>\n      <td>1</td>\n      <td>2</td>\n      <td>1</td>\n      <td>1</td>\n      <td>2</td>\n      <td>1</td>\n      <td>0.0</td>\n    </tr>\n    <tr>\n      <th>1859</th>\n      <td>B1236868</td>\n      <td>1</td>\n      <td>4</td>\n      <td>2</td>\n      <td>1</td>\n      <td>8</td>\n      <td>1</td>\n      <td>1</td>\n      <td>2</td>\n      <td>1</td>\n      <td>2</td>\n      <td>1</td>\n      <td>0.0</td>\n    </tr>\n    <tr>\n      <th>7156</th>\n      <td>B1255975</td>\n      <td>1</td>\n      <td>5</td>\n      <td>2</td>\n      <td>1</td>\n      <td>3</td>\n      <td>1</td>\n      <td>1</td>\n      <td>2</td>\n      <td>1</td>\n      <td>2</td>\n      <td>1</td>\n      <td>0.0</td>\n    </tr>\n    <tr>\n      <th>11448</th>\n      <td>B1191725</td>\n      <td>1</td>\n      <td>3</td>\n      <td>2</td>\n      <td>1</td>\n      <td>8</td>\n      <td>1</td>\n      <td>1</td>\n      <td>2</td>\n      <td>1</td>\n      <td>2</td>\n      <td>1</td>\n      <td>0.0</td>\n    </tr>\n  </tbody>\n</table>\n<p>3865 rows × 13 columns</p>\n</div>"
     },
     "execution_count": 4,
     "metadata": {},
     "output_type": "execute_result"
    }
   ],
   "source": [
    "context_test"
   ],
   "metadata": {
    "collapsed": false,
    "pycharm": {
     "name": "#%%\n"
    }
   }
  },
  {
   "cell_type": "code",
   "execution_count": null,
   "outputs": [],
   "source": [],
   "metadata": {
    "collapsed": false,
    "pycharm": {
     "name": "#%%\n"
    }
   }
  }
 ],
 "metadata": {
  "kernelspec": {
   "display_name": "Python 3",
   "language": "python",
   "name": "python3"
  },
  "language_info": {
   "codemirror_mode": {
    "name": "ipython",
    "version": 2
   },
   "file_extension": ".py",
   "mimetype": "text/x-python",
   "name": "python",
   "nbconvert_exporter": "python",
   "pygments_lexer": "ipython2",
   "version": "2.7.6"
  }
 },
 "nbformat": 4,
 "nbformat_minor": 0
}